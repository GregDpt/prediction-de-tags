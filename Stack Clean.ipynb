{
 "cells": [
  {
   "cell_type": "markdown",
   "metadata": {},
   "source": [
    "### Récupération des données\n",
    "\n",
    "Nous avons récupéré l'ensemble des posts sur la période janvier 2021 à décembre 2021. Nous avons utilisé l'outil stackexchange explorer afin de récupére l'ensemble des posts publiés entre janvier 2021 et décembre 2021. Il ne permet de récupérer que 50 000 entrée par requête SQL. Nous avons donc réalisé une requête sur l'ensembe de la période en veillant à ne pas dépasser 50000 entrées et qui ont les critères suivants:\n",
    "\n",
    "  - Ayant un Score non nul\n",
    "  - Ayant un nombre de vues non nul\n",
    "  - Ayant un nombre de réponses non nul\n",
    "  - Ayant un nombre de commentaires non nul\n",
    "  - Ayant un nombre de mise en favoris non nul\n"
   ]
  },
  {
   "cell_type": "code",
   "execution_count": 1,
   "metadata": {
    "ExecuteTime": {
     "end_time": "2022-08-08T07:43:40.751230Z",
     "start_time": "2022-08-08T07:43:22.345601Z"
    }
   },
   "outputs": [],
   "source": [
    "import pandas as pd\n",
    "import numpy as np\n",
    "import matplotlib.pyplot as plt\n",
    "import seaborn as sns\n",
    "import json\n",
    "import sys\n",
    "if not sys.warnoptions:\n",
    "    import warnings\n",
    "    warnings.simplefilter(\"ignore\")\n",
    "\n",
    "query1 = pd.read_csv('QueryResults.csv')\n",
    "query2 = pd.read_csv('QueryResults(1).csv')\n",
    "query3 = pd.read_csv('QueryResults(2).csv')\n",
    "query4 = pd.read_csv('QueryResults(3).csv')"
   ]
  },
  {
   "cell_type": "code",
   "execution_count": 30,
   "metadata": {
    "ExecuteTime": {
     "end_time": "2022-08-03T16:23:09.989989Z",
     "start_time": "2022-08-03T16:23:09.927448Z"
    }
   },
   "outputs": [],
   "source": [
    "result = pd.concat([query1, query2, query3, query4], axis=0)"
   ]
  },
  {
   "cell_type": "code",
   "execution_count": 31,
   "metadata": {
    "ExecuteTime": {
     "end_time": "2022-08-03T16:23:47.011859Z",
     "start_time": "2022-08-03T16:23:46.933226Z"
    }
   },
   "outputs": [
    {
     "data": {
      "text/html": [
       "<div>\n",
       "<style scoped>\n",
       "    .dataframe tbody tr th:only-of-type {\n",
       "        vertical-align: middle;\n",
       "    }\n",
       "\n",
       "    .dataframe tbody tr th {\n",
       "        vertical-align: top;\n",
       "    }\n",
       "\n",
       "    .dataframe thead th {\n",
       "        text-align: right;\n",
       "    }\n",
       "</style>\n",
       "<table border=\"1\" class=\"dataframe\">\n",
       "  <thead>\n",
       "    <tr style=\"text-align: right;\">\n",
       "      <th></th>\n",
       "      <th>CreationDate</th>\n",
       "      <th>Score</th>\n",
       "      <th>ViewCount</th>\n",
       "      <th>AnswerCount</th>\n",
       "      <th>CommentCount</th>\n",
       "      <th>FavoriteCount</th>\n",
       "      <th>Title</th>\n",
       "      <th>Body</th>\n",
       "      <th>Tags</th>\n",
       "    </tr>\n",
       "    <tr>\n",
       "      <th>Id</th>\n",
       "      <th></th>\n",
       "      <th></th>\n",
       "      <th></th>\n",
       "      <th></th>\n",
       "      <th></th>\n",
       "      <th></th>\n",
       "      <th></th>\n",
       "      <th></th>\n",
       "      <th></th>\n",
       "    </tr>\n",
       "  </thead>\n",
       "  <tbody>\n",
       "    <tr>\n",
       "      <th>65526397</th>\n",
       "      <td>2021-01-01 00:01:40</td>\n",
       "      <td>0</td>\n",
       "      <td>55</td>\n",
       "      <td>1</td>\n",
       "      <td>0</td>\n",
       "      <td>1</td>\n",
       "      <td>R: search for the Right Seed(s) that Simulate ...</td>\n",
       "      <td>&lt;p&gt;I want &lt;code&gt;R&lt;/code&gt; to search for the &lt;co...</td>\n",
       "      <td>&lt;r&gt;&lt;search&gt;&lt;arima&gt;</td>\n",
       "    </tr>\n",
       "    <tr>\n",
       "      <th>65526401</th>\n",
       "      <td>2021-01-01 00:02:17</td>\n",
       "      <td>2</td>\n",
       "      <td>289</td>\n",
       "      <td>1</td>\n",
       "      <td>2</td>\n",
       "      <td>0</td>\n",
       "      <td>How do I make a class instance using user input?</td>\n",
       "      <td>&lt;p&gt;I am making a text based adventure game in ...</td>\n",
       "      <td>&lt;python&gt;</td>\n",
       "    </tr>\n",
       "    <tr>\n",
       "      <th>65526414</th>\n",
       "      <td>2021-01-01 00:04:32</td>\n",
       "      <td>2</td>\n",
       "      <td>62</td>\n",
       "      <td>0</td>\n",
       "      <td>9</td>\n",
       "      <td>0</td>\n",
       "      <td>HTTP request in NodeJs - Need help in understa...</td>\n",
       "      <td>&lt;p&gt;I am a new to nodejs/javascript and trying ...</td>\n",
       "      <td>&lt;javascript&gt;&lt;node.js&gt;</td>\n",
       "    </tr>\n",
       "    <tr>\n",
       "      <th>65526420</th>\n",
       "      <td>2021-01-01 00:05:46</td>\n",
       "      <td>2</td>\n",
       "      <td>79</td>\n",
       "      <td>2</td>\n",
       "      <td>2</td>\n",
       "      <td>2</td>\n",
       "      <td>How to check if values in individiual rows of ...</td>\n",
       "      <td>&lt;p&gt;Suppose I have the following data.table:&lt;/p...</td>\n",
       "      <td>&lt;r&gt;&lt;data.table&gt;&lt;rowwise&gt;</td>\n",
       "    </tr>\n",
       "    <tr>\n",
       "      <th>65526430</th>\n",
       "      <td>2021-01-01 00:07:03</td>\n",
       "      <td>1</td>\n",
       "      <td>89</td>\n",
       "      <td>1</td>\n",
       "      <td>1</td>\n",
       "      <td>1</td>\n",
       "      <td>How to accelerate the speed of this pandas apply</td>\n",
       "      <td>&lt;p&gt;Pandas masters, here I have a question for ...</td>\n",
       "      <td>&lt;python&gt;&lt;pandas&gt;&lt;dask&gt;</td>\n",
       "    </tr>\n",
       "  </tbody>\n",
       "</table>\n",
       "</div>"
      ],
      "text/plain": [
       "                 CreationDate  Score  ViewCount  AnswerCount  CommentCount  \\\n",
       "Id                                                                           \n",
       "65526397  2021-01-01 00:01:40      0         55            1             0   \n",
       "65526401  2021-01-01 00:02:17      2        289            1             2   \n",
       "65526414  2021-01-01 00:04:32      2         62            0             9   \n",
       "65526420  2021-01-01 00:05:46      2         79            2             2   \n",
       "65526430  2021-01-01 00:07:03      1         89            1             1   \n",
       "\n",
       "          FavoriteCount                                              Title  \\\n",
       "Id                                                                           \n",
       "65526397              1  R: search for the Right Seed(s) that Simulate ...   \n",
       "65526401              0   How do I make a class instance using user input?   \n",
       "65526414              0  HTTP request in NodeJs - Need help in understa...   \n",
       "65526420              2  How to check if values in individiual rows of ...   \n",
       "65526430              1   How to accelerate the speed of this pandas apply   \n",
       "\n",
       "                                                       Body  \\\n",
       "Id                                                            \n",
       "65526397  <p>I want <code>R</code> to search for the <co...   \n",
       "65526401  <p>I am making a text based adventure game in ...   \n",
       "65526414  <p>I am a new to nodejs/javascript and trying ...   \n",
       "65526420  <p>Suppose I have the following data.table:</p...   \n",
       "65526430  <p>Pandas masters, here I have a question for ...   \n",
       "\n",
       "                              Tags  \n",
       "Id                                  \n",
       "65526397        <r><search><arima>  \n",
       "65526401                  <python>  \n",
       "65526414     <javascript><node.js>  \n",
       "65526420  <r><data.table><rowwise>  \n",
       "65526430    <python><pandas><dask>  "
      ]
     },
     "execution_count": 31,
     "metadata": {},
     "output_type": "execute_result"
    }
   ],
   "source": [
    "result = result.set_index('Id')\n",
    "result.head(5)"
   ]
  },
  {
   "cell_type": "code",
   "execution_count": 4,
   "metadata": {
    "ExecuteTime": {
     "end_time": "2022-08-03T08:40:22.640896Z",
     "start_time": "2022-08-03T08:40:22.436762Z"
    }
   },
   "outputs": [
    {
     "name": "stdout",
     "output_type": "stream",
     "text": [
      "<class 'pandas.core.frame.DataFrame'>\n",
      "Int64Index: 147307 entries, 65526397 to 70537838\n",
      "Data columns (total 9 columns):\n",
      " #   Column         Non-Null Count   Dtype \n",
      "---  ------         --------------   ----- \n",
      " 0   CreationDate   147307 non-null  object\n",
      " 1   Score          147307 non-null  int64 \n",
      " 2   ViewCount      147307 non-null  int64 \n",
      " 3   AnswerCount    147307 non-null  int64 \n",
      " 4   CommentCount   147307 non-null  int64 \n",
      " 5   FavoriteCount  147307 non-null  int64 \n",
      " 6   Title          147307 non-null  object\n",
      " 7   Body           147307 non-null  object\n",
      " 8   Tags           147307 non-null  object\n",
      "dtypes: int64(5), object(4)\n",
      "memory usage: 11.2+ MB\n"
     ]
    }
   ],
   "source": [
    "result.info()"
   ]
  },
  {
   "cell_type": "markdown",
   "metadata": {},
   "source": [
    "Nous pouvons constater un total de 10 colonnes et 147307 lignes, ainsi qu'aucunes valeurs manquantes.\n",
    "\n",
    "## Analyse numérique"
   ]
  },
  {
   "cell_type": "code",
   "execution_count": 5,
   "metadata": {
    "ExecuteTime": {
     "end_time": "2022-06-24T11:26:54.349689Z",
     "start_time": "2022-06-24T11:26:54.035569Z"
    }
   },
   "outputs": [
    {
     "data": {
      "image/png": "[encoded data removed]",
      "text/plain": [
       "<Figure size 1800x864 with 1 Axes>"
      ]
     },
     "metadata": {
      "needs_background": "light"
     },
     "output_type": "display_data"
    }
   ],
   "source": [
    "\n",
    "fig, ax = plt.subplots(nrows=1, ncols=1, figsize=(25,12))\n",
    "CreationDateByDay = pd.to_datetime(result['CreationDate']).dt.date.value_counts()\n",
    "\n",
    "sns.lineplot(data=CreationDateByDay, x=CreationDateByDay.index, y=CreationDateByDay.values, ax=ax)\n",
    "ax.set_xlabel(\"Date\", fontsize=16)\n",
    "ax.set_ylabel(\"Nombre de posts\", fontsize=16)\n",
    "ax.set_title(\"Nombre de commentaires par date\", fontsize=20)\n",
    "\n",
    "plt.show()"
   ]
  },
  {
   "cell_type": "markdown",
   "metadata": {},
   "source": [
    "Nous pouvons en déduire une baisse d'activité sur la période sélectionnée.\n",
    "\n",
    "Donc, filtrer les posts par date de création pénaliserait les publications les plus récentes et les thématiques qui y sont associées.\n",
    "\n",
    "### Score"
   ]
  },
  {
   "cell_type": "code",
   "execution_count": 6,
   "metadata": {
    "ExecuteTime": {
     "end_time": "2022-06-24T11:26:56.154741Z",
     "start_time": "2022-06-24T11:26:54.349689Z"
    }
   },
   "outputs": [
    {
     "data": {
      "image/png": "[encoded data removed]",
      "text/plain": [
       "<Figure size 1800x720 with 2 Axes>"
      ]
     },
     "metadata": {
      "needs_background": "light"
     },
     "output_type": "display_data"
    },
    {
     "name": "stdout",
     "output_type": "stream",
     "text": [
      "\n",
      "--------------------------------------------------\n",
      "\n",
      "Indicateurs statistiques de distribution de la variable Score:\n"
     ]
    },
    {
     "data": {
      "text/plain": [
       "count    147307.000000\n",
       "mean          1.552988\n",
       "std           5.961680\n",
       "min         -19.000000\n",
       "25%           0.000000\n",
       "50%           1.000000\n",
       "75%           2.000000\n",
       "max        1064.000000\n",
       "Name: Score, dtype: float64"
      ]
     },
     "metadata": {},
     "output_type": "display_data"
    }
   ],
   "source": [
    "def plot_distribution(data, col, bins='sturges'):\n",
    "\n",
    "    fig, ax = plt.subplots(nrows=1, ncols=2, figsize=(25,10))\n",
    "    \n",
    "    sns.histplot(data=data, x=col, bins='sturges', kde=True, ax=ax[0])\n",
    "    ax[0].set_xlabel(f\"{col}\", fontsize=16)\n",
    "    ax[0].set_ylabel(\"Nombre d'observations\", fontsize=16)\n",
    "    ax[0].set_title(f\"Histograme de la variable {col}\", fontsize=20)\n",
    "    \n",
    "    sns.boxplot(data=data, x=col)\n",
    "    ax[1].set_xlabel(f\"{col}\", fontsize=16)\n",
    "    ax[1].set_ylabel(\"Nombre d'oservations\", fontsize=16)\n",
    "    ax[1].set_title(f\"Boîte à moustaches de la variable {col}\", fontsize=20)\n",
    "    plt.show()\n",
    "    \n",
    "    print(\"\\n\" + \"-\" * 50 + \"\\n\")\n",
    "    print(f\"Indicateurs statistiques de distribution de la variable {col}:\")\n",
    "    display(data[col].describe())\n",
    "    \n",
    "    \n",
    "plot_distribution(data=result, col='Score')"
   ]
  },
  {
   "cell_type": "markdown",
   "metadata": {},
   "source": [
    "La distribution est centrée sur 1 avec une majorité d'observation comprise dans l'interquartile entre 0 et 2\n",
    "\n",
    "### ViewCount"
   ]
  },
  {
   "cell_type": "code",
   "execution_count": 7,
   "metadata": {
    "ExecuteTime": {
     "end_time": "2022-06-24T11:26:57.598514Z",
     "start_time": "2022-06-24T11:26:56.154741Z"
    }
   },
   "outputs": [
    {
     "data": {
      "image/png": "[encoded data removed]",
      "text/plain": [
       "<Figure size 1800x720 with 2 Axes>"
      ]
     },
     "metadata": {
      "needs_background": "light"
     },
     "output_type": "display_data"
    },
    {
     "name": "stdout",
     "output_type": "stream",
     "text": [
      "\n",
      "--------------------------------------------------\n",
      "\n",
      "Indicateurs statistiques de distribution de la variable ViewCount:\n"
     ]
    },
    {
     "data": {
      "text/plain": [
       "count    147307.000000\n",
       "mean        790.412961\n",
       "std        4795.991490\n",
       "min           5.000000\n",
       "25%          68.000000\n",
       "50%         152.000000\n",
       "75%         449.000000\n",
       "max      877924.000000\n",
       "Name: ViewCount, dtype: float64"
      ]
     },
     "metadata": {},
     "output_type": "display_data"
    }
   ],
   "source": [
    "plot_distribution(data=result, col='ViewCount')"
   ]
  },
  {
   "cell_type": "markdown",
   "metadata": {},
   "source": [
    "La distribution est centrée sur 152 avec une majorité d'observation comprise dans l'interquartile entre 68 et 449\n",
    "\n",
    "### AnswerCount"
   ]
  },
  {
   "cell_type": "code",
   "execution_count": 8,
   "metadata": {
    "ExecuteTime": {
     "end_time": "2022-06-24T11:26:58.916297Z",
     "start_time": "2022-06-24T11:26:57.598514Z"
    }
   },
   "outputs": [
    {
     "data": {
      "image/png": "[encoded data removed]",
      "text/plain": [
       "<Figure size 1800x720 with 2 Axes>"
      ]
     },
     "metadata": {
      "needs_background": "light"
     },
     "output_type": "display_data"
    },
    {
     "name": "stdout",
     "output_type": "stream",
     "text": [
      "\n",
      "--------------------------------------------------\n",
      "\n",
      "Indicateurs statistiques de distribution de la variable AnswerCount:\n"
     ]
    },
    {
     "data": {
      "text/plain": [
       "count    147307.000000\n",
       "mean          1.220152\n",
       "std           1.136378\n",
       "min           0.000000\n",
       "25%           1.000000\n",
       "50%           1.000000\n",
       "75%           2.000000\n",
       "max          51.000000\n",
       "Name: AnswerCount, dtype: float64"
      ]
     },
     "metadata": {},
     "output_type": "display_data"
    }
   ],
   "source": [
    "plot_distribution(data=result, col='AnswerCount')"
   ]
  },
  {
   "cell_type": "markdown",
   "metadata": {},
   "source": [
    "La distribution est centrée sur 1 avec une majorité d'observation comprise dans l'interquartile entre 1 et 2\n",
    "\n",
    "### CommentCount"
   ]
  },
  {
   "cell_type": "code",
   "execution_count": 9,
   "metadata": {
    "ExecuteTime": {
     "end_time": "2022-06-24T11:27:00.236285Z",
     "start_time": "2022-06-24T11:26:58.916297Z"
    }
   },
   "outputs": [
    {
     "data": {
      "image/png": "[encoded data removed]",
      "text/plain": [
       "<Figure size 1800x720 with 2 Axes>"
      ]
     },
     "metadata": {
      "needs_background": "light"
     },
     "output_type": "display_data"
    },
    {
     "name": "stdout",
     "output_type": "stream",
     "text": [
      "\n",
      "--------------------------------------------------\n",
      "\n",
      "Indicateurs statistiques de distribution de la variable CommentCount:\n"
     ]
    },
    {
     "data": {
      "text/plain": [
       "count    147307.000000\n",
       "mean          2.171431\n",
       "std           2.989500\n",
       "min           0.000000\n",
       "25%           0.000000\n",
       "50%           1.000000\n",
       "75%           3.000000\n",
       "max          67.000000\n",
       "Name: CommentCount, dtype: float64"
      ]
     },
     "metadata": {},
     "output_type": "display_data"
    }
   ],
   "source": [
    "plot_distribution(data=result, col='CommentCount')"
   ]
  },
  {
   "cell_type": "markdown",
   "metadata": {},
   "source": [
    "La distribution est centrée sur 1 avec une majorité d'observation comprise dans l'interquartile entre 0 et 3\n",
    "\n",
    "### FavoriteCount"
   ]
  },
  {
   "cell_type": "code",
   "execution_count": 10,
   "metadata": {
    "ExecuteTime": {
     "end_time": "2022-06-24T11:27:01.696600Z",
     "start_time": "2022-06-24T11:27:00.236285Z"
    }
   },
   "outputs": [
    {
     "data": {
      "image/png": "[encoded data removed]",
      "text/plain": [
       "<Figure size 1800x720 with 2 Axes>"
      ]
     },
     "metadata": {
      "needs_background": "light"
     },
     "output_type": "display_data"
    },
    {
     "name": "stdout",
     "output_type": "stream",
     "text": [
      "\n",
      "--------------------------------------------------\n",
      "\n",
      "Indicateurs statistiques de distribution de la variable FavoriteCount:\n"
     ]
    },
    {
     "data": {
      "text/plain": [
       "count    147307.000000\n",
       "mean          0.951767\n",
       "std           1.436981\n",
       "min           0.000000\n",
       "25%           1.000000\n",
       "50%           1.000000\n",
       "75%           1.000000\n",
       "max         378.000000\n",
       "Name: FavoriteCount, dtype: float64"
      ]
     },
     "metadata": {},
     "output_type": "display_data"
    }
   ],
   "source": [
    "plot_distribution(data=result, col='FavoriteCount')"
   ]
  },
  {
   "cell_type": "markdown",
   "metadata": {
    "ExecuteTime": {
     "end_time": "2022-06-01T12:13:50.564031Z",
     "start_time": "2022-06-01T12:13:50.552068Z"
    }
   },
   "source": [
    "La majorité des observations est situées autour de 1. Regardons maintenant les observations supérieures"
   ]
  },
  {
   "cell_type": "code",
   "execution_count": 11,
   "metadata": {
    "ExecuteTime": {
     "end_time": "2022-06-24T11:27:01.743956Z",
     "start_time": "2022-06-24T11:27:01.696600Z"
    }
   },
   "outputs": [
    {
     "name": "stdout",
     "output_type": "stream",
     "text": [
      "Nombre d'observations ayant une valeur supérieure à 1 pour la variable FavoriteCount: 15366\n",
      "Proportion des observations ayant une valeur supérieure à 1 pour la variable FavoriteCount: 10.43%\n"
     ]
    }
   ],
   "source": [
    "fav_count_filter = result[result[\"FavoriteCount\"]>1].copy()\n",
    "print(f\"Nombre d'observations ayant une valeur supérieure à 1 pour la variable FavoriteCount: {fav_count_filter.shape[0]}\")\n",
    "print(f\"Proportion des observations ayant une valeur supérieure à 1 pour la variable FavoriteCount: {round(fav_count_filter.shape[0]/result.shape[0]*100,2)}%\")"
   ]
  },
  {
   "cell_type": "markdown",
   "metadata": {
    "ExecuteTime": {
     "end_time": "2022-06-01T14:47:45.686633Z",
     "start_time": "2022-06-01T14:47:45.678633Z"
    }
   },
   "source": [
    "### Analyse Bivariée"
   ]
  },
  {
   "cell_type": "code",
   "execution_count": 12,
   "metadata": {
    "ExecuteTime": {
     "end_time": "2022-06-24T11:27:59.036344Z",
     "start_time": "2022-06-24T11:27:01.743956Z"
    }
   },
   "outputs": [
    {
     "data": {
      "image/png": "[encoded data removed]",
      "text/plain": [
       "<Figure size 432x288 with 1 Axes>"
      ]
     },
     "metadata": {
      "needs_background": "light"
     },
     "output_type": "display_data"
    },
    {
     "data": {
      "image/png": "[encoded data removed]",
      "text/plain": [
       "<Figure size 432x288 with 1 Axes>"
      ]
     },
     "metadata": {
      "needs_background": "light"
     },
     "output_type": "display_data"
    },
    {
     "data": {
      "image/png": "[encoded data removed]",
      "text/plain": [
       "<Figure size 432x288 with 1 Axes>"
      ]
     },
     "metadata": {
      "needs_background": "light"
     },
     "output_type": "display_data"
    },
    {
     "data": {
      "image/png": "[encoded data removed]",
      "text/plain": [
       "<Figure size 432x288 with 1 Axes>"
      ]
     },
     "metadata": {
      "needs_background": "light"
     },
     "output_type": "display_data"
    }
   ],
   "source": [
    "result_num = result.select_dtypes(include=['int64','float64'])\n",
    "result_num = result_num.drop(columns={'CommentCount'})\n",
    "labels = ['Score', 'ViewCount', 'AnswerCount', 'FavoriteCount']\n",
    "labels = labels[0].lower()\n",
    "y_pos = np.arange(len(labels))\n",
    "for boucle in result_num :\n",
    "    sns.regplot(x=\"CommentCount\", y=boucle, data=result)\n",
    "    plt.title(\"Relationship between number of Comments and \" )\n",
    "    plt.show()"
   ]
  },
  {
   "cell_type": "markdown",
   "metadata": {},
   "source": [
    "### Correlation"
   ]
  },
  {
   "cell_type": "code",
   "execution_count": 13,
   "metadata": {
    "ExecuteTime": {
     "end_time": "2022-06-24T11:27:59.224938Z",
     "start_time": "2022-06-24T11:27:59.036344Z"
    }
   },
   "outputs": [
    {
     "data": {
      "image/png": "[encoded data removed]",
      "text/plain": [
       "<Figure size 1152x864 with 2 Axes>"
      ]
     },
     "metadata": {
      "needs_background": "light"
     },
     "output_type": "display_data"
    }
   ],
   "source": [
    "corr = result.corr()\n",
    "diag = np.zeros_like(corr)\n",
    "diag[np.triu_indices_from(diag)] = True\n",
    "f, ax = plt.subplots(figsize=(16, 12))\n",
    "sns.heatmap(corr, fmt=\".2f\", annot_kws={'size':8}, annot=True, linewidths=.5, ax=ax, center=0, mask=diag, cmap='coolwarm')\n",
    "plt.show()"
   ]
  },
  {
   "cell_type": "markdown",
   "metadata": {},
   "source": [
    "On peut remarquer une corrélation assez marqué entre Score et View, ainsi qu'avec Score et Favorite.\n",
    "\n",
    "\n",
    "## Analyse Text"
   ]
  },
  {
   "cell_type": "code",
   "execution_count": 32,
   "metadata": {
    "ExecuteTime": {
     "end_time": "2022-08-03T16:24:29.733109Z",
     "start_time": "2022-08-03T16:24:23.763843Z"
    }
   },
   "outputs": [],
   "source": [
    "result_text = result.select_dtypes(exclude=['int64','float64'])\n",
    "result_text = result_text.drop(columns={'CreationDate'})\n",
    "result_text = result_text.reset_index()\n",
    "result_text.head(5)\n",
    "\n",
    "result_text.to_csv('result_text')"
   ]
  },
  {
   "cell_type": "markdown",
   "metadata": {},
   "source": [
    "### Constitution du corpus\n",
    "\n",
    "Nous commençons par créer une nouvelle variable associant le titre (Title) et le corps du texte (Body)\n"
   ]
  },
  {
   "cell_type": "code",
   "execution_count": 33,
   "metadata": {
    "ExecuteTime": {
     "end_time": "2022-08-03T16:24:32.252087Z",
     "start_time": "2022-08-03T16:24:29.733109Z"
    }
   },
   "outputs": [
    {
     "name": "stdout",
     "output_type": "stream",
     "text": [
      "Dix première observations\n"
     ]
    },
    {
     "data": {
      "text/html": [
       "<div>\n",
       "<style scoped>\n",
       "    .dataframe tbody tr th:only-of-type {\n",
       "        vertical-align: middle;\n",
       "    }\n",
       "\n",
       "    .dataframe tbody tr th {\n",
       "        vertical-align: top;\n",
       "    }\n",
       "\n",
       "    .dataframe thead th {\n",
       "        text-align: right;\n",
       "    }\n",
       "</style>\n",
       "<table border=\"1\" class=\"dataframe\">\n",
       "  <thead>\n",
       "    <tr style=\"text-align: right;\">\n",
       "      <th></th>\n",
       "      <th>Id</th>\n",
       "      <th>Title</th>\n",
       "      <th>Body</th>\n",
       "      <th>Tags</th>\n",
       "      <th>Post</th>\n",
       "    </tr>\n",
       "  </thead>\n",
       "  <tbody>\n",
       "    <tr>\n",
       "      <th>0</th>\n",
       "      <td>65526397</td>\n",
       "      <td>R: search for the Right Seed(s) that Simulate ...</td>\n",
       "      <td>&lt;p&gt;I want &lt;code&gt;R&lt;/code&gt; to search for the &lt;co...</td>\n",
       "      <td>&lt;r&gt;&lt;search&gt;&lt;arima&gt;</td>\n",
       "      <td>R: search for the Right Seed(s) that Simulate ...</td>\n",
       "    </tr>\n",
       "    <tr>\n",
       "      <th>1</th>\n",
       "      <td>65526401</td>\n",
       "      <td>How do I make a class instance using user input?</td>\n",
       "      <td>&lt;p&gt;I am making a text based adventure game in ...</td>\n",
       "      <td>&lt;python&gt;</td>\n",
       "      <td>How do I make a class instance using user inpu...</td>\n",
       "    </tr>\n",
       "    <tr>\n",
       "      <th>2</th>\n",
       "      <td>65526414</td>\n",
       "      <td>HTTP request in NodeJs - Need help in understa...</td>\n",
       "      <td>&lt;p&gt;I am a new to nodejs/javascript and trying ...</td>\n",
       "      <td>&lt;javascript&gt;&lt;node.js&gt;</td>\n",
       "      <td>HTTP request in NodeJs - Need help in understa...</td>\n",
       "    </tr>\n",
       "    <tr>\n",
       "      <th>3</th>\n",
       "      <td>65526420</td>\n",
       "      <td>How to check if values in individiual rows of ...</td>\n",
       "      <td>&lt;p&gt;Suppose I have the following data.table:&lt;/p...</td>\n",
       "      <td>&lt;r&gt;&lt;data.table&gt;&lt;rowwise&gt;</td>\n",
       "      <td>How to check if values in individiual rows of ...</td>\n",
       "    </tr>\n",
       "    <tr>\n",
       "      <th>4</th>\n",
       "      <td>65526430</td>\n",
       "      <td>How to accelerate the speed of this pandas apply</td>\n",
       "      <td>&lt;p&gt;Pandas masters, here I have a question for ...</td>\n",
       "      <td>&lt;python&gt;&lt;pandas&gt;&lt;dask&gt;</td>\n",
       "      <td>How to accelerate the speed of this pandas app...</td>\n",
       "    </tr>\n",
       "    <tr>\n",
       "      <th>5</th>\n",
       "      <td>65526447</td>\n",
       "      <td>React Router v5.2 - Blocking route change with...</td>\n",
       "      <td>&lt;p&gt;My app has two pages: &lt;code&gt;Step1&lt;/code&gt; an...</td>\n",
       "      <td>&lt;javascript&gt;&lt;reactjs&gt;&lt;react-router&gt;&lt;react-rout...</td>\n",
       "      <td>React Router v5.2 - Blocking route change with...</td>\n",
       "    </tr>\n",
       "    <tr>\n",
       "      <th>6</th>\n",
       "      <td>65526459</td>\n",
       "      <td>How can I make this code faster in Python?</td>\n",
       "      <td>&lt;pre&gt;&lt;code&gt;input_numbers=list(map(int,input()....</td>\n",
       "      <td>&lt;python&gt;&lt;performance&gt;</td>\n",
       "      <td>How can I make this code faster in Python? &lt;pr...</td>\n",
       "    </tr>\n",
       "    <tr>\n",
       "      <th>7</th>\n",
       "      <td>65526490</td>\n",
       "      <td>Is there a C macro that replaces varied length...</td>\n",
       "      <td>&lt;p&gt;I want to be able to:&lt;/p&gt;\\n&lt;pre&gt;&lt;code&gt;#defi...</td>\n",
       "      <td>&lt;c&gt;&lt;macros&gt;</td>\n",
       "      <td>Is there a C macro that replaces varied length...</td>\n",
       "    </tr>\n",
       "    <tr>\n",
       "      <th>8</th>\n",
       "      <td>65526500</td>\n",
       "      <td>intellisense vscode not showing parameters nor...</td>\n",
       "      <td>&lt;p&gt;I'm trying to migrate my entire workflow fr...</td>\n",
       "      <td>&lt;python&gt;&lt;visual-studio-code&gt;&lt;intellisense&gt;</td>\n",
       "      <td>intellisense vscode not showing parameters nor...</td>\n",
       "    </tr>\n",
       "    <tr>\n",
       "      <th>9</th>\n",
       "      <td>65526518</td>\n",
       "      <td>Flutter Firebase how to control notification n...</td>\n",
       "      <td>&lt;p&gt;I had a flutter app with a chat room featur...</td>\n",
       "      <td>&lt;ios&gt;&lt;flutter&gt;&lt;notifications&gt;&lt;firebase-cloud-m...</td>\n",
       "      <td>Flutter Firebase how to control notification n...</td>\n",
       "    </tr>\n",
       "  </tbody>\n",
       "</table>\n",
       "</div>"
      ],
      "text/plain": [
       "         Id                                              Title  \\\n",
       "0  65526397  R: search for the Right Seed(s) that Simulate ...   \n",
       "1  65526401   How do I make a class instance using user input?   \n",
       "2  65526414  HTTP request in NodeJs - Need help in understa...   \n",
       "3  65526420  How to check if values in individiual rows of ...   \n",
       "4  65526430   How to accelerate the speed of this pandas apply   \n",
       "5  65526447  React Router v5.2 - Blocking route change with...   \n",
       "6  65526459         How can I make this code faster in Python?   \n",
       "7  65526490  Is there a C macro that replaces varied length...   \n",
       "8  65526500  intellisense vscode not showing parameters nor...   \n",
       "9  65526518  Flutter Firebase how to control notification n...   \n",
       "\n",
       "                                                Body  \\\n",
       "0  <p>I want <code>R</code> to search for the <co...   \n",
       "1  <p>I am making a text based adventure game in ...   \n",
       "2  <p>I am a new to nodejs/javascript and trying ...   \n",
       "3  <p>Suppose I have the following data.table:</p...   \n",
       "4  <p>Pandas masters, here I have a question for ...   \n",
       "5  <p>My app has two pages: <code>Step1</code> an...   \n",
       "6  <pre><code>input_numbers=list(map(int,input()....   \n",
       "7  <p>I want to be able to:</p>\\n<pre><code>#defi...   \n",
       "8  <p>I'm trying to migrate my entire workflow fr...   \n",
       "9  <p>I had a flutter app with a chat room featur...   \n",
       "\n",
       "                                                Tags  \\\n",
       "0                                 <r><search><arima>   \n",
       "1                                           <python>   \n",
       "2                              <javascript><node.js>   \n",
       "3                           <r><data.table><rowwise>   \n",
       "4                             <python><pandas><dask>   \n",
       "5  <javascript><reactjs><react-router><react-rout...   \n",
       "6                              <python><performance>   \n",
       "7                                        <c><macros>   \n",
       "8         <python><visual-studio-code><intellisense>   \n",
       "9  <ios><flutter><notifications><firebase-cloud-m...   \n",
       "\n",
       "                                                Post  \n",
       "0  R: search for the Right Seed(s) that Simulate ...  \n",
       "1  How do I make a class instance using user inpu...  \n",
       "2  HTTP request in NodeJs - Need help in understa...  \n",
       "3  How to check if values in individiual rows of ...  \n",
       "4  How to accelerate the speed of this pandas app...  \n",
       "5  React Router v5.2 - Blocking route change with...  \n",
       "6  How can I make this code faster in Python? <pr...  \n",
       "7  Is there a C macro that replaces varied length...  \n",
       "8  intellisense vscode not showing parameters nor...  \n",
       "9  Flutter Firebase how to control notification n...  "
      ]
     },
     "metadata": {},
     "output_type": "display_data"
    },
    {
     "name": "stdout",
     "output_type": "stream",
     "text": [
      "Premier élément de la liste corpus\n",
      "\n"
     ]
    },
    {
     "data": {
      "text/plain": [
       "'R: search for the Right Seed(s) that Simulate AR(2) with its Coefficients(phi_1 and phi_2) <p>I want <code>R</code> to search for the <code>seed(s)</code> that will <code>simulate</code> `AR(2):</p>\\n<pre><code>ar1.2 &lt;- arima.sim(n = 100, model=list(ar=c(0.5, 0.4), order = c(2, 0, 0)), sd = 1)\\n</code></pre>\\n<p>Such that when I run the following:</p>\\n<pre><code>set.seed()\\nar1.2 &lt;- arima.sim(n = 100, model=list(ar=c(0.5, 0.4), order = c(2, 0, 0)), sd = 1)\\nauto.arima(ar1.2)\\n</code></pre>\\n<p>It will confirm the <code>AR- coefficients</code> as <code>phi_1 = 0.5...</code> and <code>phi_2 = 0.4...</code></p>\\n<p>I have two conditions to be met chronologically as follows:</p>\\n<ol>\\n<li>Make sure that the <code>ARIMA order</code> is <code>(2, 0, 0)</code></li>\\n<li>Out of the <code>seeds</code> that satisfied <code>condition 1</code> above, <code>search</code> for the one that its coefficients as <code>0.5...</code> and <code>0.4...</code></li>\\n</ol>\\n<p><strong>Edit</strong></p>\\n<p>It is done for `AR(1) as follows:</p>\\n<pre><code>FUN &lt;- function(i) {\\n  set.seed(i)\\n  ar1 &lt;- arima.sim(n=100, model=list(ar=0.4, order=c(1, 0, 0)), sd=1)\\n  ar2 &lt;- auto.arima(ar1, ic=&quot;aicc&quot;)\\n  c(arimaorder(ar2), seed=i)\\n}\\n\\nR &lt;- 24000  ## this would be your 1e5\\nseedv &lt;- 23000:R\\n\\nlibrary(parallel)\\ncl &lt;- makeCluster(detectCores() - 1 + 1)\\nclusterExport(cl, c(&quot;FUN&quot;), envir=environment())\\nclusterEvalQ(cl, suppressPackageStartupMessages(library(forecast)))\\n\\nres &lt;- parSapply(cl, seedv, &quot;FUN&quot;)\\n\\nstopCluster(cl)\\n\\nseed_out &lt;- res[&quot;seed&quot;, which(apply(res, 2, function(x) all(x[1:3] == c(1, 0, 0))))]\\n\\n\\n#########################################################################\\nsink(&quot;ARIMA.SIM_n20_ar0.4.txt&quot;)\\n##########################################################################\\narima_order_results = data.frame()\\nfor (my_seed in seed_out){\\n   set.seed(my_seed)\\n  ar1 &lt;- arima.sim(n = 100, model=list(ar=0.4, order = c(1, 0, 0)), sd = 1)\\n  ar2 &lt;- auto.arima(ar1, ic = &quot;aicc&quot;)\\n  arr &lt;- as.data.frame(t(ar2$coef))\\n  if(substr(as.character(arr[1]), 1, 5) == &quot;0.400&quot;) {\\n\\n    arr &lt;- cbind(data.frame(seed=my_seed),arr)\\n    print(arr)\\n\\n    arima_order_results = bind_rows(arima_order_results,arr)\\n    # write.csv(my_seed, paste0(arr, &quot;.csv&quot;), row.names = FALSE)\\n\\n  }\\n}\\n##########################################################################\\nsink()\\n#######################################################################\\n</code></pre>\\n<p><strong>Get the output in your Working Directory</strong></p>\\n<pre><code>   #seed       ar1\\n#1 23027 0.4009039\\n   #seed       ar1 intercept\\n#1 23305 0.4005298 0.4055362\\n    #seed       ar1\\n#1 23443 0.4004223\\n    #seed      ar1\\n#1 23845 0.400621\\n</code></pre>\\n<p>I confirm the output with a <code>seed of 23027</code></p>\\n<pre><code>set.seed(23027)\\nar1 &lt;- arima.sim(n=100, model=list(ar=0.4, order=c(1, 0, 0)), sd=1)\\nlibrary(forecast)\\nauto.arima(ar1, ic=&quot;aicc&quot;)\\n</code></pre>\\n<p>A <code>parallel and better Answer</code> for the case of AR(1) is <a href=\"https://stackoverflow.com/questions/65458820/multiple-processes-instead-of-for-loop-in-r/65459546?noredirect=1#comment115730429_65459546\">here</a></p>\\n<p><strong>I want such a solution for AR(2)</strong></p>\\n'"
      ]
     },
     "metadata": {},
     "output_type": "display_data"
    },
    {
     "name": "stdout",
     "output_type": "stream",
     "text": [
      "\n",
      "\n",
      "Premier éléments de la liste tags\n",
      "\n"
     ]
    },
    {
     "data": {
      "text/plain": [
       "'<r><search><arima>'"
      ]
     },
     "metadata": {},
     "output_type": "display_data"
    },
    {
     "name": "stdout",
     "output_type": "stream",
     "text": [
      "Occurences dans le corpus: 147307\n",
      "Occurences dans les tags: 147307\n",
      "CPU times: total: 2.5 s\n",
      "Wall time: 2.5 s\n"
     ]
    }
   ],
   "source": [
    "%%time\n",
    "result_text['Post'] = result_text.apply(lambda x: x['Title'] + ' ' + x['Body'] if x['Title'] == x['Title'] else x['Body'], axis=1)\n",
    "corpus = result_text['Post'].to_list()\n",
    "tags = result_text['Tags'].to_list()\n",
    "\n",
    "print(\"Dix première observations\")\n",
    "display(result_text.head(10))\n",
    "\n",
    "print(\"Premier élément de la liste corpus\\n\")\n",
    "display(corpus[0])\n",
    "print(\"\\n\")\n",
    "\n",
    "print(\"Premier éléments de la liste tags\\n\")\n",
    "display(tags[0])\n",
    "\n",
    "print(f\"Occurences dans le corpus: {len(corpus)}\")\n",
    "print(f\"Occurences dans les tags: {len(tags)}\")"
   ]
  },
  {
   "cell_type": "markdown",
   "metadata": {},
   "source": [
    "### Nettoyage HTML\n",
    "\n",
    "Nous constatons que les contenus importés comportent un nombre importante de balise HTML. Nous créeons une fonction afin de les retirer.\n"
   ]
  },
  {
   "cell_type": "code",
   "execution_count": 34,
   "metadata": {
    "ExecuteTime": {
     "end_time": "2022-08-03T16:30:17.519382Z",
     "start_time": "2022-08-03T16:24:32.252087Z"
    }
   },
   "outputs": [
    {
     "name": "stdout",
     "output_type": "stream",
     "text": [
      "Premier élément de la liste corpus sans html\n",
      "\n"
     ]
    },
    {
     "data": {
      "text/plain": [
       "'R: search for the Right Seed(s) that Simulate AR(2) with its Coefficients(phi_1 and phi_2) I want R to search for the seed(s) that will simulate `AR(2): ar1.2 <- arima.sim(n = 100, model=list(ar=c(0.5, 0.4), order = c(2, 0, 0)), sd = 1) Such that when I run the following: set.seed()\\nar1.2 <- arima.sim(n = 100, model=list(ar=c(0.5, 0.4), order = c(2, 0, 0)), sd = 1)\\nauto.arima(ar1.2) It will confirm the AR- coefficients as phi_1 = 0.5... and phi_2 = 0.4... I have two conditions to be met chronologically as follows: Make sure that the ARIMA order is (2, 0, 0) Out of the seeds that satisfied condition 1 above, search for the one that its coefficients as 0.5... and 0.4... Edit It is done for `AR(1) as follows: FUN <- function(i) {\\n  set.seed(i)\\n  ar1 <- arima.sim(n=100, model=list(ar=0.4, order=c(1, 0, 0)), sd=1)\\n  ar2 <- auto.arima(ar1, ic=\"aicc\")\\n  c(arimaorder(ar2), seed=i)\\n}\\n\\nR <- 24000  ## this would be your 1e5\\nseedv <- 23000:R\\n\\nlibrary(parallel)\\ncl <- makeCluster(detectCores() - 1 + 1)\\nclusterExport(cl, c(\"FUN\"), envir=environment())\\nclusterEvalQ(cl, suppressPackageStartupMessages(library(forecast)))\\n\\nres <- parSapply(cl, seedv, \"FUN\")\\n\\nstopCluster(cl)\\n\\nseed_out <- res[\"seed\", which(apply(res, 2, function(x) all(x[1:3] == c(1, 0, 0))))]\\n\\n\\n#########################################################################\\nsink(\"ARIMA.SIM_n20_ar0.4.txt\")\\n##########################################################################\\narima_order_results = data.frame()\\nfor (my_seed in seed_out){\\n   set.seed(my_seed)\\n  ar1 <- arima.sim(n = 100, model=list(ar=0.4, order = c(1, 0, 0)), sd = 1)\\n  ar2 <- auto.arima(ar1, ic = \"aicc\")\\n  arr <- as.data.frame(t(ar2$coef))\\n  if(substr(as.character(arr[1]), 1, 5) == \"0.400\") {\\n\\n    arr <- cbind(data.frame(seed=my_seed),arr)\\n    print(arr)\\n\\n    arima_order_results = bind_rows(arima_order_results,arr)\\n    # write.csv(my_seed, paste0(arr, \".csv\"), row.names = FALSE)\\n\\n  }\\n}\\n##########################################################################\\nsink()\\n####################################################################### Get the output in your Working Directory #seed       ar1\\n#1 23027 0.4009039\\n   #seed       ar1 intercept\\n#1 23305 0.4005298 0.4055362\\n    #seed       ar1\\n#1 23443 0.4004223\\n    #seed      ar1\\n#1 23845 0.400621 I confirm the output with a seed of 23027 set.seed(23027)\\nar1 <- arima.sim(n=100, model=list(ar=0.4, order=c(1, 0, 0)), sd=1)\\nlibrary(forecast)\\nauto.arima(ar1, ic=\"aicc\") A parallel and better Answer for the case of AR(1) is here I want such a solution for AR(2)'"
      ]
     },
     "metadata": {},
     "output_type": "display_data"
    },
    {
     "name": "stdout",
     "output_type": "stream",
     "text": [
      "\n",
      "\n",
      "Occurences dans le corpus: 147307\n",
      "CPU times: total: 5min 45s\n",
      "Wall time: 5min 45s\n"
     ]
    }
   ],
   "source": [
    "%%time\n",
    "\n",
    "def clean_html(text):\n",
    "    \"\"\"\n",
    "    Remove HTML from a text.\n",
    "    \n",
    "    Args:\n",
    "        text(String): Row text with html \n",
    "             \n",
    "    Returns:\n",
    "        cleaned String\n",
    "    \"\"\"\n",
    "    import lxml\n",
    "    import html5lib\n",
    "    from bs4 import BeautifulSoup\n",
    " \n",
    "    soup = BeautifulSoup(text, \"html5lib\")\n",
    "\n",
    "    for sent in soup(['style', 'script']):\n",
    "            sent.decompose()\n",
    "   \n",
    "        \n",
    "    return ' '.join(soup.stripped_strings)\n",
    "\n",
    "corpus_wo_html = [clean_html(text) for text in corpus]\n",
    "\n",
    "print(\"Premier élément de la liste corpus sans html\\n\")\n",
    "display(corpus_wo_html[0])\n",
    "print(\"\\n\")\n",
    "\n",
    "print(f\"Occurences dans le corpus: {len(corpus_wo_html)}\")"
   ]
  },
  {
   "cell_type": "markdown",
   "metadata": {},
   "source": [
    "### Nettoyage du texte\n",
    "\n",
    "Pour les besoin des traitemment futurs et entrainements des modèles, nous avons besoins de passer les textes en minuscule. Nous en profitons pour ne conserver que les caractères alphabétiques et ne garder que les termes de plus de trois lettres. Le filtrage sur la taille des termes permet de retirer ceux qui sont générique liés au code (if, for …). Il reste toutefois perfectible puisqu’il élimine les occurrences de certains langages (C, C++, C#, R… ).\n"
   ]
  },
  {
   "cell_type": "code",
   "execution_count": 35,
   "metadata": {
    "ExecuteTime": {
     "end_time": "2022-08-03T16:30:49.580369Z",
     "start_time": "2022-08-03T16:30:17.519382Z"
    }
   },
   "outputs": [
    {
     "name": "stdout",
     "output_type": "stream",
     "text": [
      "Premier élément de la liste cleaned_corpus\n",
      "\n"
     ]
    },
    {
     "data": {
      "text/plain": [
       "'search right seed that simulate with coefficients want search seed that will simulate arima model list order such that when following seed arima model list order auto arima will confirm coefficients have conditions chronologically follows make sure that arima order seeds that satisfied condition above search that coefficients edit done follows function seed arima model list order auto arima aicc arimaorder seed this would your seedv library parallel makecluster detectcores clusterexport envir environment clusterevalq suppresspackagestartupmessages library forecast parsapply seedv stopcluster seed seed which apply function sink arima arima order results data frame seed seed seed seed arima model list order auto arima aicc data frame coef substr character cbind data frame seed seed print arima order results bind rows arima order results write seed paste names false sink output your working directory seed seed intercept seed seed confirm output with seed seed arima model list order library forecast auto arima aicc parallel better answer case here want such solution'"
      ]
     },
     "metadata": {},
     "output_type": "display_data"
    },
    {
     "name": "stdout",
     "output_type": "stream",
     "text": [
      "\n",
      "\n",
      "Premier élément de la liste cleaned_tags\n",
      "\n"
     ]
    },
    {
     "data": {
      "text/plain": [
       "'search arima'"
      ]
     },
     "metadata": {},
     "output_type": "display_data"
    },
    {
     "name": "stdout",
     "output_type": "stream",
     "text": [
      "\n",
      "\n",
      "Occurences dans le corpus nettoyé: 147307\n",
      "Occurences dans les tags nettoyés: 147307\n",
      "CPU times: total: 32 s\n",
      "Wall time: 32 s\n"
     ]
    }
   ],
   "source": [
    "%%time\n",
    "\n",
    "def text_cleaning(text):\n",
    "    \"\"\"\n",
    "    Remove figures, punctuation, words shorter than two letters (excepted C or R) in a lowered text. \n",
    "    \n",
    "    Args:\n",
    "        text(String): Row text to clean\n",
    "        \n",
    "    Returns:\n",
    "       res(string): Cleaned text\n",
    "    \"\"\"\n",
    "    import re\n",
    "    \n",
    "    pattern = re.compile(r'[^\\w]|[\\d_]')\n",
    "    \n",
    "    try: \n",
    "        res = re.sub(pattern,\" \", text).lower()\n",
    "    except TypeError:\n",
    "        return text\n",
    "    \n",
    "    res = res.split(\" \")\n",
    "    res = list(filter(lambda x: len(x)>3 , res))\n",
    "    res = \" \".join(res)\n",
    "    return res\n",
    "\n",
    "cleaned_corpus = [text_cleaning(text) for text in corpus_wo_html]\n",
    "cleaned_tags = [text_cleaning(text).strip() for text in tags]\n",
    "\n",
    "\n",
    "print(\"Premier élément de la liste cleaned_corpus\\n\")\n",
    "display(cleaned_corpus[0])\n",
    "print(\"\\n\")\n",
    "\n",
    "print(\"Premier élément de la liste cleaned_tags\\n\")\n",
    "display(cleaned_tags[0])\n",
    "print(\"\\n\")\n",
    "\n",
    "print(f\"Occurences dans le corpus nettoyé: {len(cleaned_corpus)}\")\n",
    "print(f\"Occurences dans les tags nettoyés: {len(cleaned_tags)}\")"
   ]
  },
  {
   "cell_type": "markdown",
   "metadata": {},
   "source": [
    "### Tokenization\n",
    "\n",
    "La tokenisation permet de transformer les textes passés en entrée en liste de termes distincts (token). Pendant le traitement les termes génériques (stop words) ne sont pas conservés dans la liste des tokens.\n"
   ]
  },
  {
   "cell_type": "code",
   "execution_count": 36,
   "metadata": {
    "ExecuteTime": {
     "end_time": "2022-08-03T16:33:04.635151Z",
     "start_time": "2022-08-03T16:30:49.580369Z"
    },
    "scrolled": false
   },
   "outputs": [
    {
     "name": "stdout",
     "output_type": "stream",
     "text": [
      "Premier élément de la liste tokenized_corpus\n",
      "\n"
     ]
    },
    {
     "data": {
      "text/plain": [
       "['search',\n",
       " 'right',\n",
       " 'seed',\n",
       " 'simulate',\n",
       " 'coefficients',\n",
       " 'want',\n",
       " 'search',\n",
       " 'seed',\n",
       " 'simulate',\n",
       " 'arima',\n",
       " 'model',\n",
       " 'list',\n",
       " 'order',\n",
       " 'following',\n",
       " 'seed',\n",
       " 'arima',\n",
       " 'model',\n",
       " 'list',\n",
       " 'order',\n",
       " 'auto',\n",
       " 'arima',\n",
       " 'confirm',\n",
       " 'coefficients',\n",
       " 'conditions',\n",
       " 'chronologically',\n",
       " 'follows',\n",
       " 'make',\n",
       " 'sure',\n",
       " 'arima',\n",
       " 'order',\n",
       " 'seeds',\n",
       " 'satisfied',\n",
       " 'condition',\n",
       " 'search',\n",
       " 'coefficients',\n",
       " 'edit',\n",
       " 'done',\n",
       " 'follows',\n",
       " 'function',\n",
       " 'seed',\n",
       " 'arima',\n",
       " 'model',\n",
       " 'list',\n",
       " 'order',\n",
       " 'auto',\n",
       " 'arima',\n",
       " 'aicc',\n",
       " 'arimaorder',\n",
       " 'seed',\n",
       " 'would',\n",
       " 'seedv',\n",
       " 'library',\n",
       " 'parallel',\n",
       " 'makecluster',\n",
       " 'detectcores',\n",
       " 'clusterexport',\n",
       " 'envir',\n",
       " 'environment',\n",
       " 'clusterevalq',\n",
       " 'suppresspackagestartupmessages',\n",
       " 'library',\n",
       " 'forecast',\n",
       " 'parsapply',\n",
       " 'seedv',\n",
       " 'stopcluster',\n",
       " 'seed',\n",
       " 'seed',\n",
       " 'apply',\n",
       " 'function',\n",
       " 'sink',\n",
       " 'arima',\n",
       " 'arima',\n",
       " 'order',\n",
       " 'results',\n",
       " 'data',\n",
       " 'frame',\n",
       " 'seed',\n",
       " 'seed',\n",
       " 'seed',\n",
       " 'seed',\n",
       " 'arima',\n",
       " 'model',\n",
       " 'list',\n",
       " 'order',\n",
       " 'auto',\n",
       " 'arima',\n",
       " 'aicc',\n",
       " 'data',\n",
       " 'frame',\n",
       " 'coef',\n",
       " 'substr',\n",
       " 'character',\n",
       " 'cbind',\n",
       " 'data',\n",
       " 'frame',\n",
       " 'seed',\n",
       " 'seed',\n",
       " 'print',\n",
       " 'arima',\n",
       " 'order',\n",
       " 'results',\n",
       " 'bind',\n",
       " 'rows',\n",
       " 'arima',\n",
       " 'order',\n",
       " 'results',\n",
       " 'write',\n",
       " 'seed',\n",
       " 'paste',\n",
       " 'names',\n",
       " 'false',\n",
       " 'sink',\n",
       " 'output',\n",
       " 'working',\n",
       " 'directory',\n",
       " 'seed',\n",
       " 'seed',\n",
       " 'intercept',\n",
       " 'seed',\n",
       " 'seed',\n",
       " 'confirm',\n",
       " 'output',\n",
       " 'seed',\n",
       " 'seed',\n",
       " 'arima',\n",
       " 'model',\n",
       " 'list',\n",
       " 'order',\n",
       " 'library',\n",
       " 'forecast',\n",
       " 'auto',\n",
       " 'arima',\n",
       " 'aicc',\n",
       " 'parallel',\n",
       " 'better',\n",
       " 'answer',\n",
       " 'case',\n",
       " 'want',\n",
       " 'solution']"
      ]
     },
     "metadata": {},
     "output_type": "display_data"
    },
    {
     "name": "stdout",
     "output_type": "stream",
     "text": [
      "\n",
      "\n",
      "Longueur du premier éléments de liste tokenized_corpus: 139\n",
      "\n",
      "\n",
      "Premier élément de la liste tokenized_tags\n",
      "\n"
     ]
    },
    {
     "data": {
      "text/plain": [
       "['search', 'arima']"
      ]
     },
     "metadata": {},
     "output_type": "display_data"
    },
    {
     "name": "stdout",
     "output_type": "stream",
     "text": [
      "\n",
      "\n",
      "Occurences dans le corpus tokenizé: 147307\n",
      "Occurences dans la liste des tags: 147307\n",
      "CPU times: total: 2min 15s\n",
      "Wall time: 2min 15s\n"
     ]
    }
   ],
   "source": [
    "%%time\n",
    "def tokenize(text):\n",
    "    \"\"\"\n",
    "    Tokenize words of a text.\n",
    "    \n",
    "    Args:\n",
    "    \n",
    "        text(String): Row text\n",
    "        \n",
    "    Returns\n",
    "    \n",
    "        res(list): Tokenized string.\n",
    "    \"\"\"\n",
    "    \n",
    "    from nltk.corpus import stopwords\n",
    "    from nltk import word_tokenize\n",
    "    from nltk.tokenize import sent_tokenize\n",
    "\n",
    "    stop_words = set(stopwords.words('english'))\n",
    "    \n",
    "    try:\n",
    "        res = word_tokenize(text, language='english')\n",
    "    except TypeError:\n",
    "        return text\n",
    "    \n",
    "    res = [token for token in res if token not in stop_words]\n",
    "    return res\n",
    "\n",
    "tokenized_corpus = [tokenize(text) for text in cleaned_corpus]\n",
    "tokenized_tags = [tokenize(text) for text in cleaned_tags]\n",
    "\n",
    "print(\"Premier élément de la liste tokenized_corpus\\n\")\n",
    "display(tokenized_corpus[0])\n",
    "print(\"\\n\")\n",
    "print(f\"Longueur du premier éléments de liste tokenized_corpus: {len(tokenized_corpus[0])}\")\n",
    "print(\"\\n\")\n",
    "\n",
    "print(\"Premier élément de la liste tokenized_tags\\n\")\n",
    "display(tokenized_tags[0])\n",
    "print('\\n')\n",
    "\n",
    "\n",
    "print(f\"Occurences dans le corpus tokenizé: {len(tokenized_corpus)}\")\n",
    "print(f\"Occurences dans la liste des tags: {len(tokenized_tags)}\")"
   ]
  },
  {
   "cell_type": "markdown",
   "metadata": {},
   "source": [
    "NLTK propose des listes de stop words génériques. Nous attirons l’attention sur le fait que le corpus utilisé pour les travaux est de nature spécifique. En effet les posts contiennent souvent du code, des messages d’erreur de compilateurs / interpréteurs ou des logs alors qu’aucune liste de stop words mis à disposition ne porte sur le thématique. Le risque est de laisser passer des termes génériques vis-à-vis du contexte étudié. Sans allouer un important temps de travail il s’avère difficile de construire une liste de stop words spécifique exhaustive.\n"
   ]
  },
  {
   "cell_type": "markdown",
   "metadata": {},
   "source": [
    "### Lemmatisation\n",
    "\n",
    "Afin d’éviter d’utiliser de multiples déclinaisons d’un même terme (conjugaisons, féminin, pluriel …). Les deux méthodes les couramment utilisées sont le stemming et la lemmatisation. Elles consistent toutes deux à dédupliquer les déclinaisons de termes en ne conservant que leur racine. Le stemming procède par troncature simple. De manière générale cette méthode peut poser un problème car plusieurs mots termes sémantiquement différents peuvent avoir la même racine (stem). La lemmatisation consiste à identifier la racine sémantique (lemme) d’un terme référencé dans un corpus ou un dictionnaire d’une langue. Cette méthode évite, a priori, l’écueil de diminuer le nombre de termes ayant un stem identique mais des lemmes différents. Nous retenons donc la lemmatisation. Par contre une fois encore nous sommes confrontés à la généricité des outils mis à disposition par NLTK. A titre d’exemple, “keras” (Framework de deep learning) devient “kera” une fois lemmatisé.\n"
   ]
  },
  {
   "cell_type": "code",
   "execution_count": 38,
   "metadata": {
    "ExecuteTime": {
     "end_time": "2022-08-03T16:49:32.214481Z",
     "start_time": "2022-08-03T16:48:37.631073Z"
    },
    "scrolled": false
   },
   "outputs": [
    {
     "name": "stdout",
     "output_type": "stream",
     "text": [
      "Premier élément de la liste lemmatized_corpus\n",
      "\n"
     ]
    },
    {
     "data": {
      "text/plain": [
       "['search',\n",
       " 'right',\n",
       " 'seed',\n",
       " 'simulate',\n",
       " 'coefficient',\n",
       " 'want',\n",
       " 'search',\n",
       " 'seed',\n",
       " 'simulate',\n",
       " 'arima',\n",
       " 'model',\n",
       " 'list',\n",
       " 'order',\n",
       " 'following',\n",
       " 'seed',\n",
       " 'arima',\n",
       " 'model',\n",
       " 'list',\n",
       " 'order',\n",
       " 'auto',\n",
       " 'arima',\n",
       " 'confirm',\n",
       " 'coefficient',\n",
       " 'condition',\n",
       " 'chronologically',\n",
       " 'follows',\n",
       " 'make',\n",
       " 'sure',\n",
       " 'arima',\n",
       " 'order',\n",
       " 'seed',\n",
       " 'satisfied',\n",
       " 'condition',\n",
       " 'search',\n",
       " 'coefficient',\n",
       " 'edit',\n",
       " 'done',\n",
       " 'follows',\n",
       " 'function',\n",
       " 'seed',\n",
       " 'arima',\n",
       " 'model',\n",
       " 'list',\n",
       " 'order',\n",
       " 'auto',\n",
       " 'arima',\n",
       " 'aicc',\n",
       " 'arimaorder',\n",
       " 'seed',\n",
       " 'would',\n",
       " 'seedv',\n",
       " 'library',\n",
       " 'parallel',\n",
       " 'makecluster',\n",
       " 'detectcores',\n",
       " 'clusterexport',\n",
       " 'envir',\n",
       " 'environment',\n",
       " 'clusterevalq',\n",
       " 'suppresspackagestartupmessages',\n",
       " 'library',\n",
       " 'forecast',\n",
       " 'parsapply',\n",
       " 'seedv',\n",
       " 'stopcluster',\n",
       " 'seed',\n",
       " 'seed',\n",
       " 'apply',\n",
       " 'function',\n",
       " 'sink',\n",
       " 'arima',\n",
       " 'arima',\n",
       " 'order',\n",
       " 'result',\n",
       " 'data',\n",
       " 'frame',\n",
       " 'seed',\n",
       " 'seed',\n",
       " 'seed',\n",
       " 'seed',\n",
       " 'arima',\n",
       " 'model',\n",
       " 'list',\n",
       " 'order',\n",
       " 'auto',\n",
       " 'arima',\n",
       " 'aicc',\n",
       " 'data',\n",
       " 'frame',\n",
       " 'coef',\n",
       " 'substr',\n",
       " 'character',\n",
       " 'cbind',\n",
       " 'data',\n",
       " 'frame',\n",
       " 'seed',\n",
       " 'seed',\n",
       " 'print',\n",
       " 'arima',\n",
       " 'order',\n",
       " 'result',\n",
       " 'bind',\n",
       " 'row',\n",
       " 'arima',\n",
       " 'order',\n",
       " 'result',\n",
       " 'write',\n",
       " 'seed',\n",
       " 'paste',\n",
       " 'name',\n",
       " 'false',\n",
       " 'sink',\n",
       " 'output',\n",
       " 'working',\n",
       " 'directory',\n",
       " 'seed',\n",
       " 'seed',\n",
       " 'intercept',\n",
       " 'seed',\n",
       " 'seed',\n",
       " 'confirm',\n",
       " 'output',\n",
       " 'seed',\n",
       " 'seed',\n",
       " 'arima',\n",
       " 'model',\n",
       " 'list',\n",
       " 'order',\n",
       " 'library',\n",
       " 'forecast',\n",
       " 'auto',\n",
       " 'arima',\n",
       " 'aicc',\n",
       " 'parallel',\n",
       " 'better',\n",
       " 'answer',\n",
       " 'case',\n",
       " 'want',\n",
       " 'solution']"
      ]
     },
     "metadata": {},
     "output_type": "display_data"
    },
    {
     "name": "stdout",
     "output_type": "stream",
     "text": [
      "\n",
      "\n",
      "Longueur du premier éléments de liste lemmatized_corpus: 139\n",
      "\n",
      "\n",
      "Premier élément de la liste lemmatized_tags\n",
      "\n"
     ]
    },
    {
     "data": {
      "text/plain": [
       "['search', 'arima']"
      ]
     },
     "metadata": {},
     "output_type": "display_data"
    },
    {
     "name": "stdout",
     "output_type": "stream",
     "text": [
      "Occurences dans le corpus lemmatisé: 147307\n",
      "Occurences dans les tags lemmatisés: 147307\n",
      "CPU times: total: 54.6 s\n",
      "Wall time: 54.6 s\n"
     ]
    }
   ],
   "source": [
    "%%time\n",
    "def lemmatization(tokens):\n",
    "    \"\"\"\n",
    "    Transform tokens into lems \n",
    "    \n",
    "    Args:\n",
    "        tokens(list): List of tokens\n",
    "        \n",
    "    Returns:\n",
    "        lemmatized(list): List of lemmatized tokens\n",
    "    \"\"\"\n",
    "    import nltk\n",
    "    from nltk.stem import WordNetLemmatizer\n",
    "    \n",
    "    lemmatizer = WordNetLemmatizer()\n",
    "    lemmatized = []\n",
    "    \n",
    "    for token in tokens:\n",
    "        lemmatized.append(lemmatizer.lemmatize(token))\n",
    "        \n",
    "    return lemmatized\n",
    "\n",
    "lemmatized_corpus = [lemmatization(tokens) for tokens in tokenized_corpus]\n",
    "lemmatized_tags = [lemmatization(tokens) for tokens in tokenized_tags]\n",
    "\n",
    "tags_wo_blanks = []\n",
    "for tokens in lemmatized_tags:\n",
    "    tokens = [token for token in tokens if len(token)>1]\n",
    "    tags_wo_blanks.append(tokens)\n",
    "\n",
    "print(\"Premier élément de la liste lemmatized_corpus\\n\")\n",
    "display(lemmatized_corpus[0])\n",
    "print(\"\\n\")\n",
    "\n",
    "print(f\"Longueur du premier éléments de liste lemmatized_corpus: {len(lemmatized_corpus[0])}\")\n",
    "print(\"\\n\")\n",
    "\n",
    "print(\"Premier élément de la liste lemmatized_tags\\n\")\n",
    "display(tags_wo_blanks[0])\n",
    "\n",
    "\n",
    "print(f\"Occurences dans le corpus lemmatisé: {len(lemmatized_corpus)}\")\n",
    "print(f\"Occurences dans les tags lemmatisés: {len(tags_wo_blanks)}\")"
   ]
  },
  {
   "cell_type": "markdown",
   "metadata": {},
   "source": [
    "### Filtrage des valeurs vides\n",
    "\n",
    "Les premiers traitements on généré des docuements vides. Nous décidons de filtrer le corpus pour les éliminer.\n"
   ]
  },
  {
   "cell_type": "code",
   "execution_count": 39,
   "metadata": {
    "ExecuteTime": {
     "end_time": "2022-08-03T16:49:42.401255Z",
     "start_time": "2022-08-03T16:49:32.214481Z"
    }
   },
   "outputs": [
    {
     "name": "stdout",
     "output_type": "stream",
     "text": [
      "Observations restante du corpus original: 147307\n",
      "observations restantes du corpus traité: 143542\n"
     ]
    }
   ],
   "source": [
    "print(f\"Observations restante du corpus original: {result_text.shape[0]}\")\n",
    "\n",
    "joined_corpus = [\" \".join(text) for text in lemmatized_corpus]\n",
    "corpus_df = pd.DataFrame(joined_corpus, columns=['preprocessed_text'])\n",
    "corpus_df['len_text'] = corpus_df['preprocessed_text'].apply(lambda x: len(x))\n",
    "\n",
    "joined_tags = [\" \".join(tags) for tags in tags_wo_blanks]\n",
    "tag_df = pd.DataFrame(joined_tags, columns=['preprocessed_tags'])\n",
    "tag_df['len_tags'] = tag_df['preprocessed_tags'].apply(lambda x: len(x))\n",
    "\n",
    "corpus_tag_df = pd.concat([corpus_df, tag_df], axis=1)\n",
    "\n",
    "empty_data_idx = corpus_tag_df[(corpus_tag_df['len_text']==0) | (corpus_tag_df['len_tags']==0)].index\n",
    "\n",
    "corpus_tag_df.drop(index=empty_data_idx, inplace=True)\n",
    "result_text.drop(index=empty_data_idx, inplace=True)\n",
    "\n",
    "print(f\"observations restantes du corpus traité: {corpus_tag_df.shape[0]}\")\n",
    "\n",
    "corpus_tag_df['splitted_text'] = (corpus_tag_df['preprocessed_text'].apply(lambda x: x.split(' ') ))\n",
    "corpus_tag_df['splitted_tags'] = (corpus_tag_df['preprocessed_tags'].apply(lambda x: x.split(' ') ))\n",
    "\n",
    "filtered_corpus = corpus_tag_df['splitted_text'].to_list()\n",
    "filtered_tags = corpus_tag_df['splitted_tags'].to_list()\n",
    "filtered_original_posts = result_text['Post'].to_list()\n",
    "\n",
    "filtered_tokenized_vs_original = pd.concat([result_text['Post'],\n",
    "                                            corpus_tag_df['splitted_text'], \n",
    "                                            corpus_tag_df['splitted_tags']],\n",
    "                                            axis=1)\n",
    "corpus_tag_df.to_csv('corpus_tag_df')"
   ]
  },
  {
   "cell_type": "code",
   "execution_count": 40,
   "metadata": {
    "ExecuteTime": {
     "end_time": "2022-08-03T16:49:43.076089Z",
     "start_time": "2022-08-03T16:49:42.401255Z"
    }
   },
   "outputs": [],
   "source": [
    "\n",
    "with open('tags_wo_blanks.json', 'w') as file :\n",
    "    json.dump(tags_wo_blanks, file)\n"
   ]
  },
  {
   "cell_type": "markdown",
   "metadata": {},
   "source": [
    "### Fréquence de distribution tokens\n",
    "\n",
    "Nous observons à présent la fréquence de distribution des tokens.\n"
   ]
  },
  {
   "cell_type": "code",
   "execution_count": 41,
   "metadata": {
    "ExecuteTime": {
     "end_time": "2022-08-03T16:49:53.217688Z",
     "start_time": "2022-08-03T16:49:43.076089Z"
    }
   },
   "outputs": [
    {
     "name": "stdout",
     "output_type": "stream",
     "text": [
      "Nombre de tokens du corpus 489462\n",
      "Affichage des 20 tokens les plus utilisés\n"
     ]
    },
    {
     "data": {
      "text/html": [
       "<div>\n",
       "<style scoped>\n",
       "    .dataframe tbody tr th:only-of-type {\n",
       "        vertical-align: middle;\n",
       "    }\n",
       "\n",
       "    .dataframe tbody tr th {\n",
       "        vertical-align: top;\n",
       "    }\n",
       "\n",
       "    .dataframe thead th {\n",
       "        text-align: right;\n",
       "    }\n",
       "</style>\n",
       "<table border=\"1\" class=\"dataframe\">\n",
       "  <thead>\n",
       "    <tr style=\"text-align: right;\">\n",
       "      <th></th>\n",
       "      <th>Frequency</th>\n",
       "    </tr>\n",
       "    <tr>\n",
       "      <th>Word</th>\n",
       "      <th></th>\n",
       "    </tr>\n",
       "  </thead>\n",
       "  <tbody>\n",
       "    <tr>\n",
       "      <th>data</th>\n",
       "      <td>141798</td>\n",
       "    </tr>\n",
       "    <tr>\n",
       "      <th>name</th>\n",
       "      <td>139470</td>\n",
       "    </tr>\n",
       "    <tr>\n",
       "      <th>class</th>\n",
       "      <td>131369</td>\n",
       "    </tr>\n",
       "    <tr>\n",
       "      <th>file</th>\n",
       "      <td>131305</td>\n",
       "    </tr>\n",
       "    <tr>\n",
       "      <th>value</th>\n",
       "      <td>119372</td>\n",
       "    </tr>\n",
       "    <tr>\n",
       "      <th>error</th>\n",
       "      <td>116542</td>\n",
       "    </tr>\n",
       "    <tr>\n",
       "      <th>code</th>\n",
       "      <td>104957</td>\n",
       "    </tr>\n",
       "    <tr>\n",
       "      <th>return</th>\n",
       "      <td>103814</td>\n",
       "    </tr>\n",
       "    <tr>\n",
       "      <th>user</th>\n",
       "      <td>99581</td>\n",
       "    </tr>\n",
       "    <tr>\n",
       "      <th>using</th>\n",
       "      <td>97805</td>\n",
       "    </tr>\n",
       "    <tr>\n",
       "      <th>type</th>\n",
       "      <td>94482</td>\n",
       "    </tr>\n",
       "    <tr>\n",
       "      <th>string</th>\n",
       "      <td>93716</td>\n",
       "    </tr>\n",
       "    <tr>\n",
       "      <th>java</th>\n",
       "      <td>92827</td>\n",
       "    </tr>\n",
       "    <tr>\n",
       "      <th>function</th>\n",
       "      <td>91998</td>\n",
       "    </tr>\n",
       "    <tr>\n",
       "      <th>import</th>\n",
       "      <td>85327</td>\n",
       "    </tr>\n",
       "    <tr>\n",
       "      <th>http</th>\n",
       "      <td>81002</td>\n",
       "    </tr>\n",
       "    <tr>\n",
       "      <th>like</th>\n",
       "      <td>71910</td>\n",
       "    </tr>\n",
       "    <tr>\n",
       "      <th>true</th>\n",
       "      <td>69887</td>\n",
       "    </tr>\n",
       "    <tr>\n",
       "      <th>text</th>\n",
       "      <td>68066</td>\n",
       "    </tr>\n",
       "    <tr>\n",
       "      <th>const</th>\n",
       "      <td>65128</td>\n",
       "    </tr>\n",
       "  </tbody>\n",
       "</table>\n",
       "</div>"
      ],
      "text/plain": [
       "          Frequency\n",
       "Word               \n",
       "data         141798\n",
       "name         139470\n",
       "class        131369\n",
       "file         131305\n",
       "value        119372\n",
       "error        116542\n",
       "code         104957\n",
       "return       103814\n",
       "user          99581\n",
       "using         97805\n",
       "type          94482\n",
       "string        93716\n",
       "java          92827\n",
       "function      91998\n",
       "import        85327\n",
       "http          81002\n",
       "like          71910\n",
       "true          69887\n",
       "text          68066\n",
       "const         65128"
      ]
     },
     "metadata": {},
     "output_type": "display_data"
    },
    {
     "name": "stdout",
     "output_type": "stream",
     "text": [
      "CPU times: total: 10.1 s\n",
      "Wall time: 10.1 s\n"
     ]
    }
   ],
   "source": [
    "%%time\n",
    "def build_word_distribution(corpus):\n",
    "    \"\"\"\n",
    "    Build corpus word distribution\n",
    "    \n",
    "    Args:\n",
    "        Corpus(List of lists): Original corpus\n",
    "    \n",
    "    Returns:\n",
    "        \n",
    "        word_dist_df(DataFrame): Word distribution of the corpus\n",
    "    \"\"\"\n",
    "    \n",
    "    from nltk import FreqDist\n",
    "    word_corpus = [token for token_list in corpus for token in token_list]\n",
    "    word_dist = FreqDist(word_corpus)\n",
    "    word_dist_df = pd.DataFrame(word_dist.items(), columns=['Word', 'Frequency']).set_index('Word')\n",
    "    word_dist_df.sort_values(\"Frequency\", ascending=False, inplace=True)\n",
    "\n",
    "    return word_dist_df\n",
    "\n",
    "word_dist = build_word_distribution(filtered_corpus)\n",
    "#word_dist = remove_stopwords(word_dist)\n",
    "print(f\"Nombre de tokens du corpus {word_dist.shape[0]}\")\n",
    "print(\"Affichage des 20 tokens les plus utilisés\")\n",
    "display(word_dist.head(20))"
   ]
  },
  {
   "cell_type": "markdown",
   "metadata": {},
   "source": [
    "Nous constatons un nombre important de termes génériques tels que : class, error, value, ...\n"
   ]
  },
  {
   "cell_type": "code",
   "execution_count": 42,
   "metadata": {
    "ExecuteTime": {
     "end_time": "2022-08-03T16:49:53.328014Z",
     "start_time": "2022-08-03T16:49:53.217688Z"
    }
   },
   "outputs": [
    {
     "data": {
      "text/html": [
       "<div>\n",
       "<style scoped>\n",
       "    .dataframe tbody tr th:only-of-type {\n",
       "        vertical-align: middle;\n",
       "    }\n",
       "\n",
       "    .dataframe tbody tr th {\n",
       "        vertical-align: top;\n",
       "    }\n",
       "\n",
       "    .dataframe thead th {\n",
       "        text-align: right;\n",
       "    }\n",
       "</style>\n",
       "<table border=\"1\" class=\"dataframe\">\n",
       "  <thead>\n",
       "    <tr style=\"text-align: right;\">\n",
       "      <th></th>\n",
       "      <th>Frequency</th>\n",
       "      <th>percent</th>\n",
       "    </tr>\n",
       "    <tr>\n",
       "      <th>Word</th>\n",
       "      <th></th>\n",
       "      <th></th>\n",
       "    </tr>\n",
       "  </thead>\n",
       "  <tbody>\n",
       "    <tr>\n",
       "      <th>data</th>\n",
       "      <td>141798</td>\n",
       "      <td>0.76</td>\n",
       "    </tr>\n",
       "    <tr>\n",
       "      <th>name</th>\n",
       "      <td>139470</td>\n",
       "      <td>0.74</td>\n",
       "    </tr>\n",
       "    <tr>\n",
       "      <th>class</th>\n",
       "      <td>131369</td>\n",
       "      <td>0.70</td>\n",
       "    </tr>\n",
       "    <tr>\n",
       "      <th>file</th>\n",
       "      <td>131305</td>\n",
       "      <td>0.70</td>\n",
       "    </tr>\n",
       "    <tr>\n",
       "      <th>value</th>\n",
       "      <td>119372</td>\n",
       "      <td>0.64</td>\n",
       "    </tr>\n",
       "    <tr>\n",
       "      <th>error</th>\n",
       "      <td>116542</td>\n",
       "      <td>0.62</td>\n",
       "    </tr>\n",
       "    <tr>\n",
       "      <th>code</th>\n",
       "      <td>104957</td>\n",
       "      <td>0.56</td>\n",
       "    </tr>\n",
       "    <tr>\n",
       "      <th>return</th>\n",
       "      <td>103814</td>\n",
       "      <td>0.55</td>\n",
       "    </tr>\n",
       "    <tr>\n",
       "      <th>user</th>\n",
       "      <td>99581</td>\n",
       "      <td>0.53</td>\n",
       "    </tr>\n",
       "    <tr>\n",
       "      <th>using</th>\n",
       "      <td>97805</td>\n",
       "      <td>0.52</td>\n",
       "    </tr>\n",
       "    <tr>\n",
       "      <th>type</th>\n",
       "      <td>94482</td>\n",
       "      <td>0.50</td>\n",
       "    </tr>\n",
       "    <tr>\n",
       "      <th>string</th>\n",
       "      <td>93716</td>\n",
       "      <td>0.50</td>\n",
       "    </tr>\n",
       "    <tr>\n",
       "      <th>java</th>\n",
       "      <td>92827</td>\n",
       "      <td>0.50</td>\n",
       "    </tr>\n",
       "    <tr>\n",
       "      <th>function</th>\n",
       "      <td>91998</td>\n",
       "      <td>0.49</td>\n",
       "    </tr>\n",
       "    <tr>\n",
       "      <th>import</th>\n",
       "      <td>85327</td>\n",
       "      <td>0.46</td>\n",
       "    </tr>\n",
       "    <tr>\n",
       "      <th>http</th>\n",
       "      <td>81002</td>\n",
       "      <td>0.43</td>\n",
       "    </tr>\n",
       "    <tr>\n",
       "      <th>like</th>\n",
       "      <td>71910</td>\n",
       "      <td>0.38</td>\n",
       "    </tr>\n",
       "    <tr>\n",
       "      <th>true</th>\n",
       "      <td>69887</td>\n",
       "      <td>0.37</td>\n",
       "    </tr>\n",
       "    <tr>\n",
       "      <th>text</th>\n",
       "      <td>68066</td>\n",
       "      <td>0.36</td>\n",
       "    </tr>\n",
       "    <tr>\n",
       "      <th>const</th>\n",
       "      <td>65128</td>\n",
       "      <td>0.35</td>\n",
       "    </tr>\n",
       "  </tbody>\n",
       "</table>\n",
       "</div>"
      ],
      "text/plain": [
       "          Frequency  percent\n",
       "Word                        \n",
       "data         141798     0.76\n",
       "name         139470     0.74\n",
       "class        131369     0.70\n",
       "file         131305     0.70\n",
       "value        119372     0.64\n",
       "error        116542     0.62\n",
       "code         104957     0.56\n",
       "return       103814     0.55\n",
       "user          99581     0.53\n",
       "using         97805     0.52\n",
       "type          94482     0.50\n",
       "string        93716     0.50\n",
       "java          92827     0.50\n",
       "function      91998     0.49\n",
       "import        85327     0.46\n",
       "http          81002     0.43\n",
       "like          71910     0.38\n",
       "true          69887     0.37\n",
       "text          68066     0.36\n",
       "const         65128     0.35"
      ]
     },
     "execution_count": 42,
     "metadata": {},
     "output_type": "execute_result"
    }
   ],
   "source": [
    "word_dist['percent'] = round((word_dist['Frequency'] * 100)/word_dist['Frequency'].sum(),2)\n",
    "word_dist.sort_values('percent', ascending=False)\n",
    "word_dist.head(20)"
   ]
  },
  {
   "cell_type": "markdown",
   "metadata": {},
   "source": [
    "### Fréquence de distribution des tags\n",
    "\n",
    "Nous réalisons le même traitement sur les tags.\n"
   ]
  },
  {
   "cell_type": "code",
   "execution_count": 43,
   "metadata": {
    "ExecuteTime": {
     "end_time": "2022-08-03T16:49:53.673130Z",
     "start_time": "2022-08-03T16:49:53.328014Z"
    }
   },
   "outputs": [
    {
     "name": "stdout",
     "output_type": "stream",
     "text": [
      "Top 20 des tags les plus utilisés\n"
     ]
    },
    {
     "data": {
      "text/html": [
       "<div>\n",
       "<style scoped>\n",
       "    .dataframe tbody tr th:only-of-type {\n",
       "        vertical-align: middle;\n",
       "    }\n",
       "\n",
       "    .dataframe tbody tr th {\n",
       "        vertical-align: top;\n",
       "    }\n",
       "\n",
       "    .dataframe thead th {\n",
       "        text-align: right;\n",
       "    }\n",
       "</style>\n",
       "<table border=\"1\" class=\"dataframe\">\n",
       "  <thead>\n",
       "    <tr style=\"text-align: right;\">\n",
       "      <th></th>\n",
       "      <th>Frequency</th>\n",
       "    </tr>\n",
       "    <tr>\n",
       "      <th>Word</th>\n",
       "      <th></th>\n",
       "    </tr>\n",
       "  </thead>\n",
       "  <tbody>\n",
       "    <tr>\n",
       "      <th>python</th>\n",
       "      <td>30058</td>\n",
       "    </tr>\n",
       "    <tr>\n",
       "      <th>javascript</th>\n",
       "      <td>15738</td>\n",
       "    </tr>\n",
       "    <tr>\n",
       "      <th>android</th>\n",
       "      <td>12423</td>\n",
       "    </tr>\n",
       "    <tr>\n",
       "      <th>java</th>\n",
       "      <td>11582</td>\n",
       "    </tr>\n",
       "    <tr>\n",
       "      <th>reactjs</th>\n",
       "      <td>7894</td>\n",
       "    </tr>\n",
       "    <tr>\n",
       "      <th>azure</th>\n",
       "      <td>7310</td>\n",
       "    </tr>\n",
       "    <tr>\n",
       "      <th>google</th>\n",
       "      <td>7206</td>\n",
       "    </tr>\n",
       "    <tr>\n",
       "      <th>html</th>\n",
       "      <td>5692</td>\n",
       "    </tr>\n",
       "    <tr>\n",
       "      <th>react</th>\n",
       "      <td>5692</td>\n",
       "    </tr>\n",
       "    <tr>\n",
       "      <th>spring</th>\n",
       "      <td>5447</td>\n",
       "    </tr>\n",
       "    <tr>\n",
       "      <th>flutter</th>\n",
       "      <td>5361</td>\n",
       "    </tr>\n",
       "    <tr>\n",
       "      <th>node</th>\n",
       "      <td>4678</td>\n",
       "    </tr>\n",
       "    <tr>\n",
       "      <th>amazon</th>\n",
       "      <td>4390</td>\n",
       "    </tr>\n",
       "    <tr>\n",
       "      <th>panda</th>\n",
       "      <td>4220</td>\n",
       "    </tr>\n",
       "    <tr>\n",
       "      <th>django</th>\n",
       "      <td>4054</td>\n",
       "    </tr>\n",
       "    <tr>\n",
       "      <th>typescript</th>\n",
       "      <td>3827</td>\n",
       "    </tr>\n",
       "    <tr>\n",
       "      <th>studio</th>\n",
       "      <td>3479</td>\n",
       "    </tr>\n",
       "    <tr>\n",
       "      <th>angular</th>\n",
       "      <td>3389</td>\n",
       "    </tr>\n",
       "    <tr>\n",
       "      <th>docker</th>\n",
       "      <td>3344</td>\n",
       "    </tr>\n",
       "    <tr>\n",
       "      <th>apache</th>\n",
       "      <td>3296</td>\n",
       "    </tr>\n",
       "  </tbody>\n",
       "</table>\n",
       "</div>"
      ],
      "text/plain": [
       "            Frequency\n",
       "Word                 \n",
       "python          30058\n",
       "javascript      15738\n",
       "android         12423\n",
       "java            11582\n",
       "reactjs          7894\n",
       "azure            7310\n",
       "google           7206\n",
       "html             5692\n",
       "react            5692\n",
       "spring           5447\n",
       "flutter          5361\n",
       "node             4678\n",
       "amazon           4390\n",
       "panda            4220\n",
       "django           4054\n",
       "typescript       3827\n",
       "studio           3479\n",
       "angular          3389\n",
       "docker           3344\n",
       "apache           3296"
      ]
     },
     "metadata": {},
     "output_type": "display_data"
    },
    {
     "name": "stdout",
     "output_type": "stream",
     "text": [
      "Nombre de tags: 12188\n"
     ]
    }
   ],
   "source": [
    "tag_dist = build_word_distribution(filtered_tags)\n",
    "print(\"Top 20 des tags les plus utilisés\")\n",
    "display(tag_dist.head(20))\n",
    "print(f\"Nombre de tags: {len(tag_dist)}\")\n",
    "first_200_tags = tag_dist[0:200].index.to_list()\n",
    "with open('first_200_tags.json', 'w') as file :\n",
    "    json.dump(first_200_tags, file)"
   ]
  },
  {
   "cell_type": "markdown",
   "metadata": {},
   "source": [
    "### filtrage top 200 tags\n",
    "\n",
    "Pour les besoin des entrainements des modèles supervisés, nous avons besoin limiter le nombre de tags. Nous décidons de ne retenir que les 200 premiers."
   ]
  },
  {
   "cell_type": "code",
   "execution_count": 44,
   "metadata": {
    "ExecuteTime": {
     "end_time": "2022-08-03T16:49:58.521790Z",
     "start_time": "2022-08-03T16:49:53.673130Z"
    }
   },
   "outputs": [
    {
     "name": "stdout",
     "output_type": "stream",
     "text": [
      "Observations restantes dans le corpus original: 143542\n",
      "Observations restantes dans le corpus traité: 128481\n"
     ]
    }
   ],
   "source": [
    "print(f\"Observations restantes dans le corpus original: {result_text.shape[0]}\")\n",
    "filtered_corpus_tag_df = corpus_tag_df.copy()\n",
    "filtered_corpus_tag_df['tags_in_top200'] = filtered_corpus_tag_df['splitted_tags'].apply(lambda tags: [tag for tag in tags if tag in first_200_tags])\n",
    "\n",
    "filtered_corpus_tag_df['len_tags_in_top200'] = filtered_corpus_tag_df['tags_in_top200'].apply(lambda x: len(x))\n",
    "missing_filtered_data = filtered_corpus_tag_df[filtered_corpus_tag_df['len_tags_in_top200'] == 0].index\n",
    "\n",
    "filtered_corpus_tag_df.drop(index=missing_filtered_data, inplace=True)\n",
    "print(f\"Observations restantes dans le corpus traité: {filtered_corpus_tag_df.shape[0]}\")\n",
    "\n",
    "top200_corpus = filtered_corpus_tag_df['splitted_text'].to_list()\n",
    "top200_joined_corpus = filtered_corpus_tag_df['preprocessed_text'].to_list()\n",
    "top200_tags = filtered_corpus_tag_df['tags_in_top200'].to_list()\n",
    "with open('top200_tags.json', 'w') as file :\n",
    "    json.dump(top200_tags, file)\n",
    "with open('top200_joined_corpus.json', 'w') as file :\n",
    "    json.dump(top200_joined_corpus, file)"
   ]
  },
  {
   "cell_type": "markdown",
   "metadata": {},
   "source": [
    "### Fréquences de distribution des tokens après filtrage du top 200 tags\n",
    "\n",
    "Nous souhaitons à nouveau appréhender la distribution des tokens sur le corpus filtré.\n"
   ]
  },
  {
   "cell_type": "code",
   "execution_count": 45,
   "metadata": {
    "ExecuteTime": {
     "end_time": "2022-08-03T16:50:07.452819Z",
     "start_time": "2022-08-03T16:49:58.521790Z"
    }
   },
   "outputs": [
    {
     "name": "stdout",
     "output_type": "stream",
     "text": [
      "Nombre de tokens du corpus 444495\n",
      "Affichage des 20 tokens les plus utilisés\n"
     ]
    },
    {
     "data": {
      "text/html": [
       "<div>\n",
       "<style scoped>\n",
       "    .dataframe tbody tr th:only-of-type {\n",
       "        vertical-align: middle;\n",
       "    }\n",
       "\n",
       "    .dataframe tbody tr th {\n",
       "        vertical-align: top;\n",
       "    }\n",
       "\n",
       "    .dataframe thead th {\n",
       "        text-align: right;\n",
       "    }\n",
       "</style>\n",
       "<table border=\"1\" class=\"dataframe\">\n",
       "  <thead>\n",
       "    <tr style=\"text-align: right;\">\n",
       "      <th></th>\n",
       "      <th>Frequency</th>\n",
       "    </tr>\n",
       "    <tr>\n",
       "      <th>Word</th>\n",
       "      <th></th>\n",
       "    </tr>\n",
       "  </thead>\n",
       "  <tbody>\n",
       "    <tr>\n",
       "      <th>data</th>\n",
       "      <td>130781</td>\n",
       "    </tr>\n",
       "    <tr>\n",
       "      <th>name</th>\n",
       "      <td>129284</td>\n",
       "    </tr>\n",
       "    <tr>\n",
       "      <th>class</th>\n",
       "      <td>123259</td>\n",
       "    </tr>\n",
       "    <tr>\n",
       "      <th>file</th>\n",
       "      <td>117822</td>\n",
       "    </tr>\n",
       "    <tr>\n",
       "      <th>value</th>\n",
       "      <td>109264</td>\n",
       "    </tr>\n",
       "    <tr>\n",
       "      <th>error</th>\n",
       "      <td>105405</td>\n",
       "    </tr>\n",
       "    <tr>\n",
       "      <th>return</th>\n",
       "      <td>95232</td>\n",
       "    </tr>\n",
       "    <tr>\n",
       "      <th>code</th>\n",
       "      <td>94531</td>\n",
       "    </tr>\n",
       "    <tr>\n",
       "      <th>user</th>\n",
       "      <td>92638</td>\n",
       "    </tr>\n",
       "    <tr>\n",
       "      <th>java</th>\n",
       "      <td>87718</td>\n",
       "    </tr>\n",
       "    <tr>\n",
       "      <th>using</th>\n",
       "      <td>86534</td>\n",
       "    </tr>\n",
       "    <tr>\n",
       "      <th>type</th>\n",
       "      <td>86296</td>\n",
       "    </tr>\n",
       "    <tr>\n",
       "      <th>string</th>\n",
       "      <td>85788</td>\n",
       "    </tr>\n",
       "    <tr>\n",
       "      <th>function</th>\n",
       "      <td>83650</td>\n",
       "    </tr>\n",
       "    <tr>\n",
       "      <th>import</th>\n",
       "      <td>82881</td>\n",
       "    </tr>\n",
       "    <tr>\n",
       "      <th>http</th>\n",
       "      <td>74130</td>\n",
       "    </tr>\n",
       "    <tr>\n",
       "      <th>true</th>\n",
       "      <td>64873</td>\n",
       "    </tr>\n",
       "    <tr>\n",
       "      <th>like</th>\n",
       "      <td>64523</td>\n",
       "    </tr>\n",
       "    <tr>\n",
       "      <th>text</th>\n",
       "      <td>63279</td>\n",
       "    </tr>\n",
       "    <tr>\n",
       "      <th>const</th>\n",
       "      <td>60521</td>\n",
       "    </tr>\n",
       "  </tbody>\n",
       "</table>\n",
       "</div>"
      ],
      "text/plain": [
       "          Frequency\n",
       "Word               \n",
       "data         130781\n",
       "name         129284\n",
       "class        123259\n",
       "file         117822\n",
       "value        109264\n",
       "error        105405\n",
       "return        95232\n",
       "code          94531\n",
       "user          92638\n",
       "java          87718\n",
       "using         86534\n",
       "type          86296\n",
       "string        85788\n",
       "function      83650\n",
       "import        82881\n",
       "http          74130\n",
       "true          64873\n",
       "like          64523\n",
       "text          63279\n",
       "const         60521"
      ]
     },
     "metadata": {},
     "output_type": "display_data"
    },
    {
     "name": "stdout",
     "output_type": "stream",
     "text": [
      "Nombre des tokens ayant plus de 1000 occurences sur le corpus filtré\n"
     ]
    },
    {
     "data": {
      "text/plain": [
       "2007"
      ]
     },
     "execution_count": 45,
     "metadata": {},
     "output_type": "execute_result"
    }
   ],
   "source": [
    "word_dist_top200 = build_word_distribution(top200_corpus)\n",
    "print(f\"Nombre de tokens du corpus {word_dist_top200.shape[0]}\")\n",
    "print(\"Affichage des 20 tokens les plus utilisés\")\n",
    "display(word_dist_top200.head(20))\n",
    "print(\"Nombre des tokens ayant plus de 1000 occurences sur le corpus filtré\")\n",
    "word_dist_top200[word_dist_top200[\"Frequency\"]>=1000].shape[0]"
   ]
  },
  {
   "cell_type": "markdown",
   "metadata": {},
   "source": [
    "Nous constatons que le filtrage par top 200 tags a changé le classement des tokens les plus représenté.\n",
    "\n",
    "\n",
    "### Fréquences de distribution des tags après filtrage du top 200 tags\n",
    "\n",
    "Nous réalisons le même traitement sur les tags.\n"
   ]
  },
  {
   "cell_type": "code",
   "execution_count": 46,
   "metadata": {
    "ExecuteTime": {
     "end_time": "2022-08-03T16:50:07.641327Z",
     "start_time": "2022-08-03T16:50:07.452819Z"
    }
   },
   "outputs": [
    {
     "name": "stdout",
     "output_type": "stream",
     "text": [
      "Top 20 des tags les plus utilisés\n"
     ]
    },
    {
     "data": {
      "text/html": [
       "<div>\n",
       "<style scoped>\n",
       "    .dataframe tbody tr th:only-of-type {\n",
       "        vertical-align: middle;\n",
       "    }\n",
       "\n",
       "    .dataframe tbody tr th {\n",
       "        vertical-align: top;\n",
       "    }\n",
       "\n",
       "    .dataframe thead th {\n",
       "        text-align: right;\n",
       "    }\n",
       "</style>\n",
       "<table border=\"1\" class=\"dataframe\">\n",
       "  <thead>\n",
       "    <tr style=\"text-align: right;\">\n",
       "      <th></th>\n",
       "      <th>Frequency</th>\n",
       "    </tr>\n",
       "    <tr>\n",
       "      <th>Word</th>\n",
       "      <th></th>\n",
       "    </tr>\n",
       "  </thead>\n",
       "  <tbody>\n",
       "    <tr>\n",
       "      <th>python</th>\n",
       "      <td>30058</td>\n",
       "    </tr>\n",
       "    <tr>\n",
       "      <th>javascript</th>\n",
       "      <td>15738</td>\n",
       "    </tr>\n",
       "    <tr>\n",
       "      <th>android</th>\n",
       "      <td>12423</td>\n",
       "    </tr>\n",
       "    <tr>\n",
       "      <th>java</th>\n",
       "      <td>11582</td>\n",
       "    </tr>\n",
       "    <tr>\n",
       "      <th>reactjs</th>\n",
       "      <td>7894</td>\n",
       "    </tr>\n",
       "    <tr>\n",
       "      <th>azure</th>\n",
       "      <td>7310</td>\n",
       "    </tr>\n",
       "    <tr>\n",
       "      <th>google</th>\n",
       "      <td>7206</td>\n",
       "    </tr>\n",
       "    <tr>\n",
       "      <th>react</th>\n",
       "      <td>5692</td>\n",
       "    </tr>\n",
       "    <tr>\n",
       "      <th>html</th>\n",
       "      <td>5692</td>\n",
       "    </tr>\n",
       "    <tr>\n",
       "      <th>spring</th>\n",
       "      <td>5447</td>\n",
       "    </tr>\n",
       "    <tr>\n",
       "      <th>flutter</th>\n",
       "      <td>5361</td>\n",
       "    </tr>\n",
       "    <tr>\n",
       "      <th>node</th>\n",
       "      <td>4678</td>\n",
       "    </tr>\n",
       "    <tr>\n",
       "      <th>amazon</th>\n",
       "      <td>4390</td>\n",
       "    </tr>\n",
       "    <tr>\n",
       "      <th>panda</th>\n",
       "      <td>4220</td>\n",
       "    </tr>\n",
       "    <tr>\n",
       "      <th>django</th>\n",
       "      <td>4054</td>\n",
       "    </tr>\n",
       "    <tr>\n",
       "      <th>typescript</th>\n",
       "      <td>3827</td>\n",
       "    </tr>\n",
       "    <tr>\n",
       "      <th>studio</th>\n",
       "      <td>3479</td>\n",
       "    </tr>\n",
       "    <tr>\n",
       "      <th>angular</th>\n",
       "      <td>3389</td>\n",
       "    </tr>\n",
       "    <tr>\n",
       "      <th>docker</th>\n",
       "      <td>3344</td>\n",
       "    </tr>\n",
       "    <tr>\n",
       "      <th>apache</th>\n",
       "      <td>3296</td>\n",
       "    </tr>\n",
       "  </tbody>\n",
       "</table>\n",
       "</div>"
      ],
      "text/plain": [
       "            Frequency\n",
       "Word                 \n",
       "python          30058\n",
       "javascript      15738\n",
       "android         12423\n",
       "java            11582\n",
       "reactjs          7894\n",
       "azure            7310\n",
       "google           7206\n",
       "react            5692\n",
       "html             5692\n",
       "spring           5447\n",
       "flutter          5361\n",
       "node             4678\n",
       "amazon           4390\n",
       "panda            4220\n",
       "django           4054\n",
       "typescript       3827\n",
       "studio           3479\n",
       "angular          3389\n",
       "docker           3344\n",
       "apache           3296"
      ]
     },
     "metadata": {},
     "output_type": "display_data"
    },
    {
     "name": "stdout",
     "output_type": "stream",
     "text": [
      "Nombre de tags: 200\n"
     ]
    }
   ],
   "source": [
    "tag_dist_top_200 = build_word_distribution(top200_tags)\n",
    "print(\"Top 20 des tags les plus utilisés\")\n",
    "display(tag_dist_top_200.head(20))\n",
    "print(f\"Nombre de tags: {len(tag_dist_top_200)}\")"
   ]
  },
  {
   "cell_type": "markdown",
   "metadata": {},
   "source": [
    "## TF-IDF\n",
    "\n",
    "Afin de pouvoir entraîner les modèles nous avons besoin de transformer les listes de tokens lemmatisés en vecteurs. Deux méthodes sont couramment utilisées :\n",
    "\n",
    "   - Bag of words : Chaque liste de token (appelée document) est transformée en un vecteur indiquant la fréquence brute de chaque terme du corpus dans la liste.\n",
    "   - TF-IDF : Dans cette méthode, la fréquence brute d’un token est remplacée par un indicateur composé de sa fréquence d’apparition du token dans le document et la fréquence inverse du nombre de documents où le token apparaît. Tel que TF-IDF=TF ×log⁡〖|D|/|{d_j ∶ t_i∈d_j }| 〗 avec |D| : le nombre total de documents dans le corpus et |{d_j ∶ t_i∈d_j }| : le nombre de documents ou le token apparaît. Cette méthode permet de minorer les tokens présents dans un nombre élevé de documents et de normaliser la taille des documents. Les documents contenant des termes très génériques et de longueurs très variables, nous avons décidé d’utiliser une vectorisation par TF-IDF pour la suite des travaux. Afin de de ne garder que les tokens les plus représentatifs, nous avons entrainé les modèles de vectorisation sur des dictionnaire de correspondance (vocabulary) ne comportant que des termes dont la fréquence est supérieure à 1000 occurrences dans le corpus.\n",
    "\n"
   ]
  },
  {
   "cell_type": "code",
   "execution_count": 47,
   "metadata": {
    "ExecuteTime": {
     "end_time": "2022-08-03T16:51:55.353926Z",
     "start_time": "2022-08-03T16:50:07.641327Z"
    }
   },
   "outputs": [
    {
     "name": "stdout",
     "output_type": "stream",
     "text": [
      "Affichage des 10 premiers posts vectorisés via le modèle de TF-IDF\n"
     ]
    },
    {
     "data": {
      "text/html": [
       "<div>\n",
       "<style scoped>\n",
       "    .dataframe tbody tr th:only-of-type {\n",
       "        vertical-align: middle;\n",
       "    }\n",
       "\n",
       "    .dataframe tbody tr th {\n",
       "        vertical-align: top;\n",
       "    }\n",
       "\n",
       "    .dataframe thead th {\n",
       "        text-align: right;\n",
       "    }\n",
       "</style>\n",
       "<table border=\"1\" class=\"dataframe\">\n",
       "  <thead>\n",
       "    <tr style=\"text-align: right;\">\n",
       "      <th></th>\n",
       "      <th>data</th>\n",
       "      <th>name</th>\n",
       "      <th>class</th>\n",
       "      <th>file</th>\n",
       "      <th>value</th>\n",
       "      <th>error</th>\n",
       "      <th>return</th>\n",
       "      <th>code</th>\n",
       "      <th>user</th>\n",
       "      <th>java</th>\n",
       "      <th>...</th>\n",
       "      <th>dataframes</th>\n",
       "      <th>destroy</th>\n",
       "      <th>blazor</th>\n",
       "      <th>cipher</th>\n",
       "      <th>half</th>\n",
       "      <th>food</th>\n",
       "      <th>printstacktrace</th>\n",
       "      <th>animated</th>\n",
       "      <th>provides</th>\n",
       "      <th>smaller</th>\n",
       "    </tr>\n",
       "  </thead>\n",
       "  <tbody>\n",
       "    <tr>\n",
       "      <th>0</th>\n",
       "      <td>0.047725</td>\n",
       "      <td>0.016214</td>\n",
       "      <td>0.000000</td>\n",
       "      <td>0.000000</td>\n",
       "      <td>0.000000</td>\n",
       "      <td>0.000000</td>\n",
       "      <td>0.000000</td>\n",
       "      <td>0.000000</td>\n",
       "      <td>0.000000</td>\n",
       "      <td>0.0</td>\n",
       "      <td>...</td>\n",
       "      <td>0.0</td>\n",
       "      <td>0.0</td>\n",
       "      <td>0.0</td>\n",
       "      <td>0.0</td>\n",
       "      <td>0.0</td>\n",
       "      <td>0.0</td>\n",
       "      <td>0.0</td>\n",
       "      <td>0.0</td>\n",
       "      <td>0.0</td>\n",
       "      <td>0.0</td>\n",
       "    </tr>\n",
       "    <tr>\n",
       "      <th>1</th>\n",
       "      <td>0.000000</td>\n",
       "      <td>0.217976</td>\n",
       "      <td>0.155651</td>\n",
       "      <td>0.000000</td>\n",
       "      <td>0.000000</td>\n",
       "      <td>0.000000</td>\n",
       "      <td>0.035300</td>\n",
       "      <td>0.000000</td>\n",
       "      <td>0.125233</td>\n",
       "      <td>0.0</td>\n",
       "      <td>...</td>\n",
       "      <td>0.0</td>\n",
       "      <td>0.0</td>\n",
       "      <td>0.0</td>\n",
       "      <td>0.0</td>\n",
       "      <td>0.0</td>\n",
       "      <td>0.0</td>\n",
       "      <td>0.0</td>\n",
       "      <td>0.0</td>\n",
       "      <td>0.0</td>\n",
       "      <td>0.0</td>\n",
       "    </tr>\n",
       "    <tr>\n",
       "      <th>2</th>\n",
       "      <td>0.036422</td>\n",
       "      <td>0.000000</td>\n",
       "      <td>0.000000</td>\n",
       "      <td>0.000000</td>\n",
       "      <td>0.075583</td>\n",
       "      <td>0.247969</td>\n",
       "      <td>0.036071</td>\n",
       "      <td>0.122689</td>\n",
       "      <td>0.000000</td>\n",
       "      <td>0.0</td>\n",
       "      <td>...</td>\n",
       "      <td>0.0</td>\n",
       "      <td>0.0</td>\n",
       "      <td>0.0</td>\n",
       "      <td>0.0</td>\n",
       "      <td>0.0</td>\n",
       "      <td>0.0</td>\n",
       "      <td>0.0</td>\n",
       "      <td>0.0</td>\n",
       "      <td>0.0</td>\n",
       "      <td>0.0</td>\n",
       "    </tr>\n",
       "    <tr>\n",
       "      <th>3</th>\n",
       "      <td>0.366561</td>\n",
       "      <td>0.000000</td>\n",
       "      <td>0.000000</td>\n",
       "      <td>0.000000</td>\n",
       "      <td>0.190169</td>\n",
       "      <td>0.000000</td>\n",
       "      <td>0.000000</td>\n",
       "      <td>0.000000</td>\n",
       "      <td>0.000000</td>\n",
       "      <td>0.0</td>\n",
       "      <td>...</td>\n",
       "      <td>0.0</td>\n",
       "      <td>0.0</td>\n",
       "      <td>0.0</td>\n",
       "      <td>0.0</td>\n",
       "      <td>0.0</td>\n",
       "      <td>0.0</td>\n",
       "      <td>0.0</td>\n",
       "      <td>0.0</td>\n",
       "      <td>0.0</td>\n",
       "      <td>0.0</td>\n",
       "    </tr>\n",
       "    <tr>\n",
       "      <th>4</th>\n",
       "      <td>0.000000</td>\n",
       "      <td>0.201532</td>\n",
       "      <td>0.000000</td>\n",
       "      <td>0.011686</td>\n",
       "      <td>0.159571</td>\n",
       "      <td>0.000000</td>\n",
       "      <td>0.021758</td>\n",
       "      <td>0.037003</td>\n",
       "      <td>0.000000</td>\n",
       "      <td>0.0</td>\n",
       "      <td>...</td>\n",
       "      <td>0.0</td>\n",
       "      <td>0.0</td>\n",
       "      <td>0.0</td>\n",
       "      <td>0.0</td>\n",
       "      <td>0.0</td>\n",
       "      <td>0.0</td>\n",
       "      <td>0.0</td>\n",
       "      <td>0.0</td>\n",
       "      <td>0.0</td>\n",
       "      <td>0.0</td>\n",
       "    </tr>\n",
       "    <tr>\n",
       "      <th>5</th>\n",
       "      <td>0.000000</td>\n",
       "      <td>0.000000</td>\n",
       "      <td>0.000000</td>\n",
       "      <td>0.000000</td>\n",
       "      <td>0.000000</td>\n",
       "      <td>0.000000</td>\n",
       "      <td>0.000000</td>\n",
       "      <td>0.000000</td>\n",
       "      <td>0.023848</td>\n",
       "      <td>0.0</td>\n",
       "      <td>...</td>\n",
       "      <td>0.0</td>\n",
       "      <td>0.0</td>\n",
       "      <td>0.0</td>\n",
       "      <td>0.0</td>\n",
       "      <td>0.0</td>\n",
       "      <td>0.0</td>\n",
       "      <td>0.0</td>\n",
       "      <td>0.0</td>\n",
       "      <td>0.0</td>\n",
       "      <td>0.0</td>\n",
       "    </tr>\n",
       "    <tr>\n",
       "      <th>6</th>\n",
       "      <td>0.000000</td>\n",
       "      <td>0.000000</td>\n",
       "      <td>0.000000</td>\n",
       "      <td>0.000000</td>\n",
       "      <td>0.000000</td>\n",
       "      <td>0.000000</td>\n",
       "      <td>0.000000</td>\n",
       "      <td>0.046854</td>\n",
       "      <td>0.000000</td>\n",
       "      <td>0.0</td>\n",
       "      <td>...</td>\n",
       "      <td>0.0</td>\n",
       "      <td>0.0</td>\n",
       "      <td>0.0</td>\n",
       "      <td>0.0</td>\n",
       "      <td>0.0</td>\n",
       "      <td>0.0</td>\n",
       "      <td>0.0</td>\n",
       "      <td>0.0</td>\n",
       "      <td>0.0</td>\n",
       "      <td>0.0</td>\n",
       "    </tr>\n",
       "    <tr>\n",
       "      <th>7</th>\n",
       "      <td>0.000000</td>\n",
       "      <td>0.000000</td>\n",
       "      <td>0.000000</td>\n",
       "      <td>0.117761</td>\n",
       "      <td>0.000000</td>\n",
       "      <td>0.000000</td>\n",
       "      <td>0.000000</td>\n",
       "      <td>0.093224</td>\n",
       "      <td>0.000000</td>\n",
       "      <td>0.0</td>\n",
       "      <td>...</td>\n",
       "      <td>0.0</td>\n",
       "      <td>0.0</td>\n",
       "      <td>0.0</td>\n",
       "      <td>0.0</td>\n",
       "      <td>0.0</td>\n",
       "      <td>0.0</td>\n",
       "      <td>0.0</td>\n",
       "      <td>0.0</td>\n",
       "      <td>0.0</td>\n",
       "      <td>0.0</td>\n",
       "    </tr>\n",
       "    <tr>\n",
       "      <th>8</th>\n",
       "      <td>0.035367</td>\n",
       "      <td>0.000000</td>\n",
       "      <td>0.000000</td>\n",
       "      <td>0.000000</td>\n",
       "      <td>0.000000</td>\n",
       "      <td>0.000000</td>\n",
       "      <td>0.000000</td>\n",
       "      <td>0.000000</td>\n",
       "      <td>0.000000</td>\n",
       "      <td>0.0</td>\n",
       "      <td>...</td>\n",
       "      <td>0.0</td>\n",
       "      <td>0.0</td>\n",
       "      <td>0.0</td>\n",
       "      <td>0.0</td>\n",
       "      <td>0.0</td>\n",
       "      <td>0.0</td>\n",
       "      <td>0.0</td>\n",
       "      <td>0.0</td>\n",
       "      <td>0.0</td>\n",
       "      <td>0.0</td>\n",
       "    </tr>\n",
       "    <tr>\n",
       "      <th>9</th>\n",
       "      <td>0.116121</td>\n",
       "      <td>0.000000</td>\n",
       "      <td>0.000000</td>\n",
       "      <td>0.000000</td>\n",
       "      <td>0.200809</td>\n",
       "      <td>0.000000</td>\n",
       "      <td>0.038334</td>\n",
       "      <td>0.000000</td>\n",
       "      <td>0.000000</td>\n",
       "      <td>0.0</td>\n",
       "      <td>...</td>\n",
       "      <td>0.0</td>\n",
       "      <td>0.0</td>\n",
       "      <td>0.0</td>\n",
       "      <td>0.0</td>\n",
       "      <td>0.0</td>\n",
       "      <td>0.0</td>\n",
       "      <td>0.0</td>\n",
       "      <td>0.0</td>\n",
       "      <td>0.0</td>\n",
       "      <td>0.0</td>\n",
       "    </tr>\n",
       "  </tbody>\n",
       "</table>\n",
       "<p>10 rows × 2007 columns</p>\n",
       "</div>"
      ],
      "text/plain": [
       "       data      name     class      file     value     error    return  \\\n",
       "0  0.047725  0.016214  0.000000  0.000000  0.000000  0.000000  0.000000   \n",
       "1  0.000000  0.217976  0.155651  0.000000  0.000000  0.000000  0.035300   \n",
       "2  0.036422  0.000000  0.000000  0.000000  0.075583  0.247969  0.036071   \n",
       "3  0.366561  0.000000  0.000000  0.000000  0.190169  0.000000  0.000000   \n",
       "4  0.000000  0.201532  0.000000  0.011686  0.159571  0.000000  0.021758   \n",
       "5  0.000000  0.000000  0.000000  0.000000  0.000000  0.000000  0.000000   \n",
       "6  0.000000  0.000000  0.000000  0.000000  0.000000  0.000000  0.000000   \n",
       "7  0.000000  0.000000  0.000000  0.117761  0.000000  0.000000  0.000000   \n",
       "8  0.035367  0.000000  0.000000  0.000000  0.000000  0.000000  0.000000   \n",
       "9  0.116121  0.000000  0.000000  0.000000  0.200809  0.000000  0.038334   \n",
       "\n",
       "       code      user  java  ...  dataframes  destroy  blazor  cipher  half  \\\n",
       "0  0.000000  0.000000   0.0  ...         0.0      0.0     0.0     0.0   0.0   \n",
       "1  0.000000  0.125233   0.0  ...         0.0      0.0     0.0     0.0   0.0   \n",
       "2  0.122689  0.000000   0.0  ...         0.0      0.0     0.0     0.0   0.0   \n",
       "3  0.000000  0.000000   0.0  ...         0.0      0.0     0.0     0.0   0.0   \n",
       "4  0.037003  0.000000   0.0  ...         0.0      0.0     0.0     0.0   0.0   \n",
       "5  0.000000  0.023848   0.0  ...         0.0      0.0     0.0     0.0   0.0   \n",
       "6  0.046854  0.000000   0.0  ...         0.0      0.0     0.0     0.0   0.0   \n",
       "7  0.093224  0.000000   0.0  ...         0.0      0.0     0.0     0.0   0.0   \n",
       "8  0.000000  0.000000   0.0  ...         0.0      0.0     0.0     0.0   0.0   \n",
       "9  0.000000  0.000000   0.0  ...         0.0      0.0     0.0     0.0   0.0   \n",
       "\n",
       "   food  printstacktrace  animated  provides  smaller  \n",
       "0   0.0              0.0       0.0       0.0      0.0  \n",
       "1   0.0              0.0       0.0       0.0      0.0  \n",
       "2   0.0              0.0       0.0       0.0      0.0  \n",
       "3   0.0              0.0       0.0       0.0      0.0  \n",
       "4   0.0              0.0       0.0       0.0      0.0  \n",
       "5   0.0              0.0       0.0       0.0      0.0  \n",
       "6   0.0              0.0       0.0       0.0      0.0  \n",
       "7   0.0              0.0       0.0       0.0      0.0  \n",
       "8   0.0              0.0       0.0       0.0      0.0  \n",
       "9   0.0              0.0       0.0       0.0      0.0  \n",
       "\n",
       "[10 rows x 2007 columns]"
      ]
     },
     "metadata": {},
     "output_type": "display_data"
    },
    {
     "name": "stdout",
     "output_type": "stream",
     "text": [
      " Nombre d'observations: 128481, nombre de variables: 2007\n",
      "CPU times: total: 1min 47s\n",
      "Wall time: 1min 47s\n"
     ]
    }
   ],
   "source": [
    "%%time\n",
    "from sklearn.feature_extraction.text import TfidfVectorizer\n",
    "vocabulary = list(word_dist_top200[word_dist_top200[\"Frequency\"]>=1000].index)\n",
    "tfidf_vectorizer = TfidfVectorizer(vocabulary=vocabulary)\n",
    "X = tfidf_vectorizer.fit_transform(top200_joined_corpus)\n",
    "tfidf_data = pd.DataFrame(X.toarray(), columns=vocabulary)\n",
    "print(\"Affichage des 10 premiers posts vectorisés via le modèle de TF-IDF\")\n",
    "display(tfidf_data.head(10))\n",
    "tfidf_data.to_csv('tfidf_data', index=False)\n",
    "\n",
    "print(f\" Nombre d'observations: {tfidf_data.shape[0]}, nombre de variables: {tfidf_data.shape[1]}\")\n",
    "    \n",
    "filename_vocabulary = 'vocabulary.pkl'\n",
    "pickle.dump(vocabulary, open(filename_vocabulary,'wb'))\n",
    "import pickle\n",
    "filename_tfidf_vectorizer = 'tfidf_vectorizer.pkl'\n",
    "pickle.dump(tfidf_vectorizer, open(filename_tfidf_vectorizer,'wb'))\n",
    "\n"
   ]
  },
  {
   "cell_type": "markdown",
   "metadata": {},
   "source": [
    "### Réduction des données\n",
    "\n",
    "La vectorisation a transformé les documents en un vecteur de 1016 composantes. Afin de casser les corrélations entre celles-ci et optimiser le temps d’entrainement des modèles en réduisant les dimensions nous réalisons une ACP (Analyse en Composantes Principales).\n"
   ]
  },
  {
   "cell_type": "code",
   "execution_count": 48,
   "metadata": {
    "ExecuteTime": {
     "end_time": "2022-08-03T16:52:38.633269Z",
     "start_time": "2022-08-03T16:51:55.353926Z"
    }
   },
   "outputs": [
    {
     "data": {
      "image/png": "[encoded data removed]",
      "text/plain": [
       "<Figure size 432x288 with 1 Axes>"
      ]
     },
     "metadata": {
      "needs_background": "light"
     },
     "output_type": "display_data"
    }
   ],
   "source": [
    "from sklearn.decomposition import PCA\n",
    "\n",
    "pca = PCA(random_state=42)\n",
    "pca.fit(tfidf_data)\n",
    "\n",
    "def display_scree_plot(pca):\n",
    "    scree = pca.explained_variance_ratio_*100\n",
    "    plt.bar(np.arange(len(scree))+1, scree)\n",
    "    plt.plot(np.arange(len(scree))+1, scree.cumsum(),c=\"red\",marker='o')\n",
    "    plt.xlabel(\"rang de l'axe d'inertie\")\n",
    "    plt.ylabel(\"pourcentage d'inertie\")\n",
    "    plt.title(\"Eboulis des valeurs propres\")\n",
    "    plt.grid(True)\n",
    "    plt.show(block=False)\n",
    "\n",
    "display_scree_plot(pca)"
   ]
  },
  {
   "cell_type": "markdown",
   "metadata": {},
   "source": [
    "A défaut d’un coude significatif dans la visualisation l’éboulis des composantes principales, nous utilisons un hyper paramètre consistant à retenir un nombre de vecteurs permettant de conserver 85% d’inertie."
   ]
  },
  {
   "cell_type": "code",
   "execution_count": 49,
   "metadata": {
    "ExecuteTime": {
     "end_time": "2022-08-03T16:53:18.535817Z",
     "start_time": "2022-08-03T16:52:38.633269Z"
    }
   },
   "outputs": [
    {
     "name": "stdout",
     "output_type": "stream",
     "text": [
      "Nombre de composantes principales: 1073\n"
     ]
    }
   ],
   "source": [
    "pca = PCA(n_components=0.85, random_state=42)\n",
    "pca.fit(tfidf_data)\n",
    "print(f\"Nombre de composantes principales: {pca.components_.shape[0]}\")"
   ]
  },
  {
   "cell_type": "code",
   "execution_count": null,
   "metadata": {},
   "outputs": [],
   "source": []
  }
 ],
 "metadata": {
  "kernelspec": {
   "display_name": "Python 3 (ipykernel)",
   "language": "python",
   "name": "python3"
  },
  "language_info": {
   "codemirror_mode": {
    "name": "ipython",
    "version": 3
   },
   "file_extension": ".py",
   "mimetype": "text/x-python",
   "name": "python",
   "nbconvert_exporter": "python",
   "pygments_lexer": "ipython3",
   "version": "3.9.12"
  },
  "toc": {
   "base_numbering": 1,
   "nav_menu": {},
   "number_sections": true,
   "sideBar": true,
   "skip_h1_title": false,
   "title_cell": "Table of Contents",
   "title_sidebar": "Contents",
   "toc_cell": false,
   "toc_position": {},
   "toc_section_display": true,
   "toc_window_display": true
  },
  "varInspector": {
   "cols": {
    "lenName": 16,
    "lenType": 16,
    "lenVar": 40
   },
   "kernels_config": {
    "python": {
     "delete_cmd_postfix": "",
     "delete_cmd_prefix": "del ",
     "library": "var_list.py",
     "varRefreshCmd": "print(var_dic_list())"
    },
    "r": {
     "delete_cmd_postfix": ") ",
     "delete_cmd_prefix": "rm(",
     "library": "var_list.r",
     "varRefreshCmd": "cat(var_dic_list()) "
    }
   },
   "position": {
    "height": "818.85px",
    "left": "1550px",
    "right": "20px",
    "top": "114px",
    "width": "344px"
   },
   "types_to_exclude": [
    "module",
    "function",
    "builtin_function_or_method",
    "instance",
    "_Feature"
   ],
   "window_display": true
  }
 },
 "nbformat": 4,
 "nbformat_minor": 4
}
